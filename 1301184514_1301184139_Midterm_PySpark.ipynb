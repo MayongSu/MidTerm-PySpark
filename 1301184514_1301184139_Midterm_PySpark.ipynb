{
  "cells": [
    {
      "cell_type": "markdown",
      "metadata": {
        "id": "view-in-github",
        "colab_type": "text"
      },
      "source": [
        "<a href=\"https://colab.research.google.com/github/MayongSu/MidTerm-PySpark/blob/main/1301184514_1301184139_Midterm_PySpark.ipynb\" target=\"_parent\"><img src=\"https://colab.research.google.com/assets/colab-badge.svg\" alt=\"Open In Colab\"/></a>"
      ]
    },
    {
      "cell_type": "code",
      "execution_count": null,
      "id": "fef97f51",
      "metadata": {
        "_cell_guid": "b1076dfc-b9ad-4769-8c92-a6c4dae69d19",
        "_uuid": "8f2839f25d086af736a60e9eeb907d3b93b6e0e5",
        "execution": {
          "iopub.execute_input": "2024-11-18T05:55:33.735733Z",
          "iopub.status.busy": "2024-11-18T05:55:33.735110Z",
          "iopub.status.idle": "2024-11-18T05:55:34.488977Z",
          "shell.execute_reply": "2024-11-18T05:55:34.487902Z"
        },
        "papermill": {
          "duration": 0.764069,
          "end_time": "2024-11-18T05:55:34.491044",
          "exception": false,
          "start_time": "2024-11-18T05:55:33.726975",
          "status": "completed"
        },
        "tags": [],
        "id": "fef97f51",
        "outputId": "be762c2b-f7c3-4c3e-9196-930f837e60eb"
      },
      "outputs": [
        {
          "name": "stdout",
          "output_type": "stream",
          "text": [
            "/kaggle/input/new-york-city-taxi-fare-prediction/sample_submission.csv\n",
            "/kaggle/input/new-york-city-taxi-fare-prediction/GCP-Coupons-Instructions.rtf\n",
            "/kaggle/input/new-york-city-taxi-fare-prediction/train.csv\n",
            "/kaggle/input/new-york-city-taxi-fare-prediction/test.csv\n"
          ]
        }
      ],
      "source": [
        "import numpy as np # linear algebra\n",
        "import pandas as pd # data processing, CSV file I/O (e.g. pd.read_csv)\n",
        "\n",
        "import os\n",
        "for dirname, _, filenames in os.walk('/kaggle/input'):\n",
        "    for filename in filenames:\n",
        "        print(os.path.join(dirname, filename))\n"
      ]
    },
    {
      "cell_type": "code",
      "execution_count": null,
      "id": "1be27f79",
      "metadata": {
        "execution": {
          "iopub.execute_input": "2024-11-18T05:55:34.504758Z",
          "iopub.status.busy": "2024-11-18T05:55:34.504353Z",
          "iopub.status.idle": "2024-11-18T05:56:19.185593Z",
          "shell.execute_reply": "2024-11-18T05:56:19.184230Z"
        },
        "papermill": {
          "duration": 44.690673,
          "end_time": "2024-11-18T05:56:19.188131",
          "exception": false,
          "start_time": "2024-11-18T05:55:34.497458",
          "status": "completed"
        },
        "tags": [],
        "id": "1be27f79",
        "outputId": "f5a644dd-c1fe-475a-96ee-ec49b5f910e9"
      },
      "outputs": [
        {
          "name": "stdout",
          "output_type": "stream",
          "text": [
            "Collecting pyspark\r\n",
            "  Downloading pyspark-3.5.3.tar.gz (317.3 MB)\r\n",
            "\u001b[2K     \u001b[90m━━━━━━━━━━━━━━━━━━━━━━━━━━━━━━━━━━━━━━━\u001b[0m \u001b[32m317.3/317.3 MB\u001b[0m \u001b[31m5.1 MB/s\u001b[0m eta \u001b[36m0:00:00\u001b[0m\r\n",
            "\u001b[?25h  Preparing metadata (setup.py) ... \u001b[?25l-\b \b\\\b \bdone\r\n",
            "\u001b[?25hRequirement already satisfied: py4j==0.10.9.7 in /opt/conda/lib/python3.10/site-packages (from pyspark) (0.10.9.7)\r\n",
            "Building wheels for collected packages: pyspark\r\n",
            "  Building wheel for pyspark (setup.py) ... \u001b[?25l-\b \b\\\b \b|\b \bdone\r\n",
            "\u001b[?25h  Created wheel for pyspark: filename=pyspark-3.5.3-py2.py3-none-any.whl size=317840629 sha256=bd3e0ffdc64a8293c2af293e8226101c6bd06bdfa970e24448003c1e19d970fe\r\n",
            "  Stored in directory: /root/.cache/pip/wheels/1b/3a/92/28b93e2fbfdbb07509ca4d6f50c5e407f48dce4ddbda69a4ab\r\n",
            "Successfully built pyspark\r\n",
            "Installing collected packages: pyspark\r\n",
            "Successfully installed pyspark-3.5.3\r\n"
          ]
        }
      ],
      "source": [
        "# Install Spark\n",
        "!pip install pyspark"
      ]
    },
    {
      "cell_type": "code",
      "execution_count": null,
      "id": "92d1542b",
      "metadata": {
        "execution": {
          "iopub.execute_input": "2024-11-18T05:56:19.216154Z",
          "iopub.status.busy": "2024-11-18T05:56:19.215804Z",
          "iopub.status.idle": "2024-11-18T05:59:10.914509Z",
          "shell.execute_reply": "2024-11-18T05:59:10.913658Z"
        },
        "papermill": {
          "duration": 171.715501,
          "end_time": "2024-11-18T05:59:10.917051",
          "exception": false,
          "start_time": "2024-11-18T05:56:19.201550",
          "status": "completed"
        },
        "tags": [],
        "id": "92d1542b"
      },
      "outputs": [],
      "source": [
        "df=pd.read_csv(\"/kaggle/input/new-york-city-taxi-fare-prediction/train.csv\")"
      ]
    },
    {
      "cell_type": "code",
      "execution_count": null,
      "id": "0220265a",
      "metadata": {
        "execution": {
          "iopub.execute_input": "2024-11-18T05:59:10.945233Z",
          "iopub.status.busy": "2024-11-18T05:59:10.944932Z",
          "iopub.status.idle": "2024-11-18T05:59:10.975807Z",
          "shell.execute_reply": "2024-11-18T05:59:10.974946Z"
        },
        "papermill": {
          "duration": 0.047106,
          "end_time": "2024-11-18T05:59:10.977753",
          "exception": false,
          "start_time": "2024-11-18T05:59:10.930647",
          "status": "completed"
        },
        "tags": [],
        "id": "0220265a",
        "outputId": "de0da208-f479-469f-962e-05d8f86ceb80"
      },
      "outputs": [
        {
          "data": {
            "text/html": [
              "<div>\n",
              "<style scoped>\n",
              "    .dataframe tbody tr th:only-of-type {\n",
              "        vertical-align: middle;\n",
              "    }\n",
              "\n",
              "    .dataframe tbody tr th {\n",
              "        vertical-align: top;\n",
              "    }\n",
              "\n",
              "    .dataframe thead th {\n",
              "        text-align: right;\n",
              "    }\n",
              "</style>\n",
              "<table border=\"1\" class=\"dataframe\">\n",
              "  <thead>\n",
              "    <tr style=\"text-align: right;\">\n",
              "      <th></th>\n",
              "      <th>key</th>\n",
              "      <th>fare_amount</th>\n",
              "      <th>pickup_datetime</th>\n",
              "      <th>pickup_longitude</th>\n",
              "      <th>pickup_latitude</th>\n",
              "      <th>dropoff_longitude</th>\n",
              "      <th>dropoff_latitude</th>\n",
              "      <th>passenger_count</th>\n",
              "    </tr>\n",
              "  </thead>\n",
              "  <tbody>\n",
              "    <tr>\n",
              "      <th>0</th>\n",
              "      <td>2009-06-15 17:26:21.0000001</td>\n",
              "      <td>4.5</td>\n",
              "      <td>2009-06-15 17:26:21 UTC</td>\n",
              "      <td>-73.844311</td>\n",
              "      <td>40.721319</td>\n",
              "      <td>-73.841610</td>\n",
              "      <td>40.712278</td>\n",
              "      <td>1</td>\n",
              "    </tr>\n",
              "    <tr>\n",
              "      <th>1</th>\n",
              "      <td>2010-01-05 16:52:16.0000002</td>\n",
              "      <td>16.9</td>\n",
              "      <td>2010-01-05 16:52:16 UTC</td>\n",
              "      <td>-74.016048</td>\n",
              "      <td>40.711303</td>\n",
              "      <td>-73.979268</td>\n",
              "      <td>40.782004</td>\n",
              "      <td>1</td>\n",
              "    </tr>\n",
              "    <tr>\n",
              "      <th>2</th>\n",
              "      <td>2011-08-18 00:35:00.00000049</td>\n",
              "      <td>5.7</td>\n",
              "      <td>2011-08-18 00:35:00 UTC</td>\n",
              "      <td>-73.982738</td>\n",
              "      <td>40.761270</td>\n",
              "      <td>-73.991242</td>\n",
              "      <td>40.750562</td>\n",
              "      <td>2</td>\n",
              "    </tr>\n",
              "    <tr>\n",
              "      <th>3</th>\n",
              "      <td>2012-04-21 04:30:42.0000001</td>\n",
              "      <td>7.7</td>\n",
              "      <td>2012-04-21 04:30:42 UTC</td>\n",
              "      <td>-73.987130</td>\n",
              "      <td>40.733143</td>\n",
              "      <td>-73.991567</td>\n",
              "      <td>40.758092</td>\n",
              "      <td>1</td>\n",
              "    </tr>\n",
              "    <tr>\n",
              "      <th>4</th>\n",
              "      <td>2010-03-09 07:51:00.000000135</td>\n",
              "      <td>5.3</td>\n",
              "      <td>2010-03-09 07:51:00 UTC</td>\n",
              "      <td>-73.968095</td>\n",
              "      <td>40.768008</td>\n",
              "      <td>-73.956655</td>\n",
              "      <td>40.783762</td>\n",
              "      <td>1</td>\n",
              "    </tr>\n",
              "    <tr>\n",
              "      <th>...</th>\n",
              "      <td>...</td>\n",
              "      <td>...</td>\n",
              "      <td>...</td>\n",
              "      <td>...</td>\n",
              "      <td>...</td>\n",
              "      <td>...</td>\n",
              "      <td>...</td>\n",
              "      <td>...</td>\n",
              "    </tr>\n",
              "    <tr>\n",
              "      <th>55423851</th>\n",
              "      <td>2014-03-15 03:28:00.00000070</td>\n",
              "      <td>14.0</td>\n",
              "      <td>2014-03-15 03:28:00 UTC</td>\n",
              "      <td>-74.005272</td>\n",
              "      <td>40.740027</td>\n",
              "      <td>-73.963280</td>\n",
              "      <td>40.762555</td>\n",
              "      <td>1</td>\n",
              "    </tr>\n",
              "    <tr>\n",
              "      <th>55423852</th>\n",
              "      <td>2009-03-24 20:46:20.0000002</td>\n",
              "      <td>4.2</td>\n",
              "      <td>2009-03-24 20:46:20 UTC</td>\n",
              "      <td>-73.957784</td>\n",
              "      <td>40.765530</td>\n",
              "      <td>-73.951640</td>\n",
              "      <td>40.773959</td>\n",
              "      <td>1</td>\n",
              "    </tr>\n",
              "    <tr>\n",
              "      <th>55423853</th>\n",
              "      <td>2011-04-02 22:04:24.0000004</td>\n",
              "      <td>14.1</td>\n",
              "      <td>2011-04-02 22:04:24 UTC</td>\n",
              "      <td>-73.970505</td>\n",
              "      <td>40.752325</td>\n",
              "      <td>-73.960537</td>\n",
              "      <td>40.797342</td>\n",
              "      <td>1</td>\n",
              "    </tr>\n",
              "    <tr>\n",
              "      <th>55423854</th>\n",
              "      <td>2011-10-26 05:57:51.0000002</td>\n",
              "      <td>28.9</td>\n",
              "      <td>2011-10-26 05:57:51 UTC</td>\n",
              "      <td>-73.980901</td>\n",
              "      <td>40.764629</td>\n",
              "      <td>-73.870605</td>\n",
              "      <td>40.773963</td>\n",
              "      <td>1</td>\n",
              "    </tr>\n",
              "    <tr>\n",
              "      <th>55423855</th>\n",
              "      <td>2014-12-12 11:33:00.00000015</td>\n",
              "      <td>7.5</td>\n",
              "      <td>2014-12-12 11:33:00 UTC</td>\n",
              "      <td>-73.969722</td>\n",
              "      <td>40.797668</td>\n",
              "      <td>-73.970885</td>\n",
              "      <td>40.783313</td>\n",
              "      <td>1</td>\n",
              "    </tr>\n",
              "  </tbody>\n",
              "</table>\n",
              "<p>55423856 rows × 8 columns</p>\n",
              "</div>"
            ],
            "text/plain": [
              "                                    key  fare_amount          pickup_datetime  \\\n",
              "0           2009-06-15 17:26:21.0000001          4.5  2009-06-15 17:26:21 UTC   \n",
              "1           2010-01-05 16:52:16.0000002         16.9  2010-01-05 16:52:16 UTC   \n",
              "2          2011-08-18 00:35:00.00000049          5.7  2011-08-18 00:35:00 UTC   \n",
              "3           2012-04-21 04:30:42.0000001          7.7  2012-04-21 04:30:42 UTC   \n",
              "4         2010-03-09 07:51:00.000000135          5.3  2010-03-09 07:51:00 UTC   \n",
              "...                                 ...          ...                      ...   \n",
              "55423851   2014-03-15 03:28:00.00000070         14.0  2014-03-15 03:28:00 UTC   \n",
              "55423852    2009-03-24 20:46:20.0000002          4.2  2009-03-24 20:46:20 UTC   \n",
              "55423853    2011-04-02 22:04:24.0000004         14.1  2011-04-02 22:04:24 UTC   \n",
              "55423854    2011-10-26 05:57:51.0000002         28.9  2011-10-26 05:57:51 UTC   \n",
              "55423855   2014-12-12 11:33:00.00000015          7.5  2014-12-12 11:33:00 UTC   \n",
              "\n",
              "          pickup_longitude  pickup_latitude  dropoff_longitude  \\\n",
              "0               -73.844311        40.721319         -73.841610   \n",
              "1               -74.016048        40.711303         -73.979268   \n",
              "2               -73.982738        40.761270         -73.991242   \n",
              "3               -73.987130        40.733143         -73.991567   \n",
              "4               -73.968095        40.768008         -73.956655   \n",
              "...                    ...              ...                ...   \n",
              "55423851        -74.005272        40.740027         -73.963280   \n",
              "55423852        -73.957784        40.765530         -73.951640   \n",
              "55423853        -73.970505        40.752325         -73.960537   \n",
              "55423854        -73.980901        40.764629         -73.870605   \n",
              "55423855        -73.969722        40.797668         -73.970885   \n",
              "\n",
              "          dropoff_latitude  passenger_count  \n",
              "0                40.712278                1  \n",
              "1                40.782004                1  \n",
              "2                40.750562                2  \n",
              "3                40.758092                1  \n",
              "4                40.783762                1  \n",
              "...                    ...              ...  \n",
              "55423851         40.762555                1  \n",
              "55423852         40.773959                1  \n",
              "55423853         40.797342                1  \n",
              "55423854         40.773963                1  \n",
              "55423855         40.783313                1  \n",
              "\n",
              "[55423856 rows x 8 columns]"
            ]
          },
          "execution_count": 4,
          "metadata": {},
          "output_type": "execute_result"
        }
      ],
      "source": [
        "df"
      ]
    },
    {
      "cell_type": "code",
      "execution_count": null,
      "id": "b98ab9f7",
      "metadata": {
        "execution": {
          "iopub.execute_input": "2024-11-18T05:59:11.005765Z",
          "iopub.status.busy": "2024-11-18T05:59:11.005488Z",
          "iopub.status.idle": "2024-11-18T05:59:16.331887Z",
          "shell.execute_reply": "2024-11-18T05:59:16.330698Z"
        },
        "papermill": {
          "duration": 5.343704,
          "end_time": "2024-11-18T05:59:16.334849",
          "exception": false,
          "start_time": "2024-11-18T05:59:10.991145",
          "status": "completed"
        },
        "tags": [],
        "id": "b98ab9f7",
        "outputId": "fa8da6f9-e2fe-4f55-81df-05517a6d9d38"
      },
      "outputs": [
        {
          "name": "stderr",
          "output_type": "stream",
          "text": [
            "Setting default log level to \"WARN\".\n",
            "To adjust logging level use sc.setLogLevel(newLevel). For SparkR, use setLogLevel(newLevel).\n",
            "24/11/18 05:59:14 WARN NativeCodeLoader: Unable to load native-hadoop library for your platform... using builtin-java classes where applicable\n"
          ]
        }
      ],
      "source": [
        "from pyspark.sql import SparkSession\n",
        "\n",
        "# Create Spark session\n",
        "spark = SparkSession.builder \\\n",
        "    .appName(\"NYC Taxi Fare Prediction\") \\\n",
        "    .getOrCreate()"
      ]
    },
    {
      "cell_type": "code",
      "execution_count": null,
      "id": "1830dbe0",
      "metadata": {
        "execution": {
          "iopub.execute_input": "2024-11-18T05:59:16.367240Z",
          "iopub.status.busy": "2024-11-18T05:59:16.366607Z",
          "iopub.status.idle": "2024-11-18T05:59:17.436119Z",
          "shell.execute_reply": "2024-11-18T05:59:17.435175Z"
        },
        "papermill": {
          "duration": 1.086901,
          "end_time": "2024-11-18T05:59:17.438334",
          "exception": false,
          "start_time": "2024-11-18T05:59:16.351433",
          "status": "completed"
        },
        "tags": [],
        "id": "1830dbe0",
        "outputId": "32f5c7fd-1c55-4407-d53d-17af694ef43c"
      },
      "outputs": [
        {
          "data": {
            "text/html": [
              "\n",
              "            <div>\n",
              "                <p><b>SparkSession - in-memory</b></p>\n",
              "                \n",
              "        <div>\n",
              "            <p><b>SparkContext</b></p>\n",
              "\n",
              "            <p><a href=\"http://2c150a198b7a:4040\">Spark UI</a></p>\n",
              "\n",
              "            <dl>\n",
              "              <dt>Version</dt>\n",
              "                <dd><code>v3.5.3</code></dd>\n",
              "              <dt>Master</dt>\n",
              "                <dd><code>local[*]</code></dd>\n",
              "              <dt>AppName</dt>\n",
              "                <dd><code>NYC Taxi Fare Prediction</code></dd>\n",
              "            </dl>\n",
              "        </div>\n",
              "        \n",
              "            </div>\n",
              "        "
            ],
            "text/plain": [
              "<pyspark.sql.session.SparkSession at 0x7e875c10d0c0>"
            ]
          },
          "execution_count": 6,
          "metadata": {},
          "output_type": "execute_result"
        }
      ],
      "source": [
        "spark"
      ]
    },
    {
      "cell_type": "code",
      "execution_count": null,
      "id": "6f0d5ef3",
      "metadata": {
        "execution": {
          "iopub.execute_input": "2024-11-18T05:59:17.467437Z",
          "iopub.status.busy": "2024-11-18T05:59:17.467089Z",
          "iopub.status.idle": "2024-11-18T06:01:29.539145Z",
          "shell.execute_reply": "2024-11-18T06:01:29.537943Z"
        },
        "papermill": {
          "duration": 132.089443,
          "end_time": "2024-11-18T06:01:29.541591",
          "exception": false,
          "start_time": "2024-11-18T05:59:17.452148",
          "status": "completed"
        },
        "tags": [],
        "id": "6f0d5ef3",
        "outputId": "bcf837e9-6d4d-43ec-d637-97fa14caf91e"
      },
      "outputs": [
        {
          "name": "stderr",
          "output_type": "stream",
          "text": [
            "[Stage 1:=======================================================> (42 + 1) / 43]\r"
          ]
        },
        {
          "name": "stdout",
          "output_type": "stream",
          "text": [
            "root\n",
            " |-- key: timestamp (nullable = true)\n",
            " |-- fare_amount: double (nullable = true)\n",
            " |-- pickup_datetime: timestamp (nullable = true)\n",
            " |-- pickup_longitude: double (nullable = true)\n",
            " |-- pickup_latitude: double (nullable = true)\n",
            " |-- dropoff_longitude: double (nullable = true)\n",
            " |-- dropoff_latitude: double (nullable = true)\n",
            " |-- passenger_count: integer (nullable = true)\n",
            "\n"
          ]
        },
        {
          "name": "stderr",
          "output_type": "stream",
          "text": [
            "                                                                                \r"
          ]
        }
      ],
      "source": [
        "# Load the training dataset\n",
        "train_path = \"/kaggle/input/new-york-city-taxi-fare-prediction/train.csv\"\n",
        "train_df = spark.read.csv(train_path, header=True, inferSchema=True)\n",
        "\n",
        "# Check the schema to confirm data types and structure\n",
        "train_df.printSchema()\n"
      ]
    },
    {
      "cell_type": "code",
      "execution_count": null,
      "id": "80aa5150",
      "metadata": {
        "execution": {
          "iopub.execute_input": "2024-11-18T06:01:29.575453Z",
          "iopub.status.busy": "2024-11-18T06:01:29.574832Z",
          "iopub.status.idle": "2024-11-18T06:02:31.534814Z",
          "shell.execute_reply": "2024-11-18T06:02:31.533794Z"
        },
        "papermill": {
          "duration": 61.982744,
          "end_time": "2024-11-18T06:02:31.540570",
          "exception": false,
          "start_time": "2024-11-18T06:01:29.557826",
          "status": "completed"
        },
        "tags": [],
        "id": "80aa5150",
        "outputId": "db0cc68e-8b93-42e6-9c65-48a7f234a126"
      },
      "outputs": [
        {
          "name": "stdout",
          "output_type": "stream",
          "text": [
            "+-------------------+-----------+-------------------+----------------+---------------+-----------------+----------------+---------------+\n",
            "|                key|fare_amount|    pickup_datetime|pickup_longitude|pickup_latitude|dropoff_longitude|dropoff_latitude|passenger_count|\n",
            "+-------------------+-----------+-------------------+----------------+---------------+-----------------+----------------+---------------+\n",
            "|2009-06-15 17:26:21|        4.5|2009-06-15 17:26:21|      -73.844311|      40.721319|        -73.84161|       40.712278|              1|\n",
            "|2010-01-05 16:52:16|       16.9|2010-01-05 16:52:16|      -74.016048|      40.711303|       -73.979268|       40.782004|              1|\n",
            "|2011-08-18 00:35:00|        5.7|2011-08-18 00:35:00|      -73.982738|       40.76127|       -73.991242|       40.750562|              2|\n",
            "|2012-04-21 04:30:42|        7.7|2012-04-21 04:30:42|       -73.98713|      40.733143|       -73.991567|       40.758092|              1|\n",
            "|2010-03-09 07:51:00|        5.3|2010-03-09 07:51:00|      -73.968095|      40.768008|       -73.956655|       40.783762|              1|\n",
            "+-------------------+-----------+-------------------+----------------+---------------+-----------------+----------------+---------------+\n",
            "only showing top 5 rows\n",
            "\n"
          ]
        },
        {
          "name": "stderr",
          "output_type": "stream",
          "text": [
            "24/11/18 06:01:30 WARN SparkStringUtils: Truncated the string representation of a plan since it was too large. This behavior can be adjusted by setting 'spark.sql.debug.maxToStringFields'.\n",
            "[Stage 3:=======================================================> (42 + 1) / 43]\r"
          ]
        },
        {
          "name": "stdout",
          "output_type": "stream",
          "text": [
            "+-------+------------------+------------------+-----------------+------------------+------------------+------------------+\n",
            "|summary|       fare_amount|  pickup_longitude|  pickup_latitude| dropoff_longitude|  dropoff_latitude|   passenger_count|\n",
            "+-------+------------------+------------------+-----------------+------------------+------------------+------------------+\n",
            "|  count|          55423856|          55423856|         55423856|          55423480|          55423480|          55423856|\n",
            "|   mean|11.345045601663852|-72.50968444358729| 39.9197917868882|-72.51120972971809|39.920681444828844|1.6853799201556816|\n",
            "| stddev|  20.7108321982325| 12.84888338140265|9.642353041994934|12.782196517830771| 9.633345796415124|1.3276643570959683|\n",
            "|    min|            -300.0|      -3442.059565|     -3492.263768|      -3442.024565|      -3547.886698|                 0|\n",
            "|    max|          93963.36|       3457.625683|      3408.789565|        3457.62235|       3537.132528|               208|\n",
            "+-------+------------------+------------------+-----------------+------------------+------------------+------------------+\n",
            "\n"
          ]
        },
        {
          "name": "stderr",
          "output_type": "stream",
          "text": [
            "                                                                                \r"
          ]
        }
      ],
      "source": [
        "# Show the first few rows of the dataset\n",
        "train_df.show(5)\n",
        "\n",
        "# Get a summary of the data\n",
        "train_df.describe().show()\n"
      ]
    },
    {
      "cell_type": "code",
      "execution_count": null,
      "id": "97f530d5",
      "metadata": {
        "execution": {
          "iopub.execute_input": "2024-11-18T06:02:31.595246Z",
          "iopub.status.busy": "2024-11-18T06:02:31.594776Z",
          "iopub.status.idle": "2024-11-18T06:02:31.669439Z",
          "shell.execute_reply": "2024-11-18T06:02:31.668194Z"
        },
        "papermill": {
          "duration": 0.104735,
          "end_time": "2024-11-18T06:02:31.672378",
          "exception": false,
          "start_time": "2024-11-18T06:02:31.567643",
          "status": "completed"
        },
        "tags": [],
        "id": "97f530d5"
      },
      "outputs": [],
      "source": [
        "# Remove rows with missing values\n",
        "train_df = train_df.dropna()\n",
        "\n",
        "# Filter out rows with negative fares or zero passengers\n",
        "train_df = train_df.filter((train_df.fare_amount > 0) & (train_df.passenger_count > 0))\n"
      ]
    },
    {
      "cell_type": "markdown",
      "source": [],
      "metadata": {
        "id": "v-4Ka3qs9GeY"
      },
      "id": "v-4Ka3qs9GeY"
    },
    {
      "cell_type": "code",
      "execution_count": null,
      "id": "4f678725",
      "metadata": {
        "execution": {
          "iopub.execute_input": "2024-11-18T06:02:31.726209Z",
          "iopub.status.busy": "2024-11-18T06:02:31.725752Z",
          "iopub.status.idle": "2024-11-18T06:02:31.811821Z",
          "shell.execute_reply": "2024-11-18T06:02:31.810635Z"
        },
        "papermill": {
          "duration": 0.116196,
          "end_time": "2024-11-18T06:02:31.814882",
          "exception": false,
          "start_time": "2024-11-18T06:02:31.698686",
          "status": "completed"
        },
        "tags": [],
        "id": "4f678725"
      },
      "outputs": [],
      "source": [
        "from pyspark.sql.functions import radians, cos, sin, asin, sqrt\n",
        "\n",
        "# Define a function to calculate Haversine distance\n",
        "def haversine(lat1, lon1, lat2, lon2):\n",
        "    return 2 * 6371 * asin(sqrt(sin((lat2 - lat1) / 2)**2 + cos(lat1) * cos(lat2) * sin((lon2 - lon1) / 2)**2))\n",
        "\n",
        "# Add a new column 'distance' using the Haversine formula\n",
        "train_df = train_df.withColumn(\"distance\",\n",
        "                               haversine(radians(train_df.pickup_latitude), radians(train_df.pickup_longitude),\n",
        "                                         radians(train_df.dropoff_latitude), radians(train_df.dropoff_longitude)))\n"
      ]
    },
    {
      "cell_type": "code",
      "execution_count": null,
      "id": "d076b322",
      "metadata": {
        "execution": {
          "iopub.execute_input": "2024-11-18T06:02:31.870173Z",
          "iopub.status.busy": "2024-11-18T06:02:31.869202Z",
          "iopub.status.idle": "2024-11-18T06:05:22.859697Z",
          "shell.execute_reply": "2024-11-18T06:05:22.858801Z"
        },
        "papermill": {
          "duration": 171.020386,
          "end_time": "2024-11-18T06:05:22.861988",
          "exception": false,
          "start_time": "2024-11-18T06:02:31.841602",
          "status": "completed"
        },
        "tags": [],
        "id": "d076b322",
        "outputId": "1688b1fe-49f6-467c-abc5-1f90fdd03043"
      },
      "outputs": [
        {
          "name": "stderr",
          "output_type": "stream",
          "text": [
            "                                                                                \r"
          ]
        }
      ],
      "source": [
        "# Import required libraries\n",
        "import pandas as pd\n",
        "import matplotlib.pyplot as plt\n",
        "import seaborn as sns\n",
        "\n",
        "# Convert a sample of the data to Pandas for visualization\n",
        "sample_df = train_df.sample(fraction=0.01, seed=42).toPandas()\n"
      ]
    },
    {
      "cell_type": "code",
      "execution_count": null,
      "id": "166d9825",
      "metadata": {
        "execution": {
          "iopub.execute_input": "2024-11-18T06:05:22.903872Z",
          "iopub.status.busy": "2024-11-18T06:05:22.903408Z",
          "iopub.status.idle": "2024-11-18T06:05:26.790197Z",
          "shell.execute_reply": "2024-11-18T06:05:26.789243Z"
        },
        "papermill": {
          "duration": 3.909923,
          "end_time": "2024-11-18T06:05:26.792398",
          "exception": false,
          "start_time": "2024-11-18T06:05:22.882475",
          "status": "completed"
        },
        "tags": [],
        "id": "166d9825",
        "outputId": "9c437619-370c-4e0c-a531-25bc64c48c4e"
      },
      "outputs": [
        {
          "name": "stderr",
          "output_type": "stream",
          "text": [
            "/opt/conda/lib/python3.10/site-packages/seaborn/_oldcore.py:1119: FutureWarning: use_inf_as_na option is deprecated and will be removed in a future version. Convert inf values to NaN before operating instead.\n",
            "  with pd.option_context('mode.use_inf_as_na', True):\n"
          ]
        },
        {
          "data": {
            "image/png": "[encoded data removed]",
            "text/plain": [
              "<Figure size 1000x600 with 1 Axes>"
            ]
          },
          "metadata": {},
          "output_type": "display_data"
        }
      ],
      "source": [
        "# Plot fare_amount distribution\n",
        "plt.figure(figsize=(10, 6))\n",
        "sns.histplot(sample_df['fare_amount'], bins=50, kde=True)\n",
        "plt.title(\"Distribution of Fare Amounts\")\n",
        "plt.xlabel(\"Fare Amount\")\n",
        "plt.ylabel(\"Frequency\")\n",
        "plt.show()"
      ]
    },
    {
      "cell_type": "code",
      "execution_count": null,
      "id": "10859cc7",
      "metadata": {
        "execution": {
          "iopub.execute_input": "2024-11-18T06:05:26.835105Z",
          "iopub.status.busy": "2024-11-18T06:05:26.834545Z",
          "iopub.status.idle": "2024-11-18T06:05:30.708638Z",
          "shell.execute_reply": "2024-11-18T06:05:30.707682Z"
        },
        "papermill": {
          "duration": 3.897692,
          "end_time": "2024-11-18T06:05:30.710787",
          "exception": false,
          "start_time": "2024-11-18T06:05:26.813095",
          "status": "completed"
        },
        "tags": [],
        "id": "10859cc7",
        "outputId": "3771bbd0-1f6c-4a17-a301-c403efe83708"
      },
      "outputs": [
        {
          "name": "stderr",
          "output_type": "stream",
          "text": [
            "/opt/conda/lib/python3.10/site-packages/seaborn/_oldcore.py:1119: FutureWarning: use_inf_as_na option is deprecated and will be removed in a future version. Convert inf values to NaN before operating instead.\n",
            "  with pd.option_context('mode.use_inf_as_na', True):\n"
          ]
        },
        {
          "data": {
            "image/png": "[encoded data removed]",
            "text/plain": [
              "<Figure size 1000x600 with 1 Axes>"
            ]
          },
          "metadata": {},
          "output_type": "display_data"
        }
      ],
      "source": [
        "# Plot distance distribution\n",
        "plt.figure(figsize=(10, 6))\n",
        "sns.histplot(sample_df['distance'], bins=50, kde=True)\n",
        "plt.title(\"Distribution of Trip Distances\")\n",
        "plt.xlabel(\"Distance (km)\")\n",
        "plt.ylabel(\"Frequency\")\n",
        "plt.show()"
      ]
    },
    {
      "cell_type": "code",
      "execution_count": null,
      "id": "a5cb1e73",
      "metadata": {
        "execution": {
          "iopub.execute_input": "2024-11-18T06:05:30.754393Z",
          "iopub.status.busy": "2024-11-18T06:05:30.754059Z",
          "iopub.status.idle": "2024-11-18T06:05:32.214469Z",
          "shell.execute_reply": "2024-11-18T06:05:32.213474Z"
        },
        "papermill": {
          "duration": 1.48487,
          "end_time": "2024-11-18T06:05:32.216907",
          "exception": false,
          "start_time": "2024-11-18T06:05:30.732037",
          "status": "completed"
        },
        "tags": [],
        "id": "a5cb1e73",
        "outputId": "54e7ecf3-4a7f-4cb9-88ed-1d02946c6575"
      },
      "outputs": [
        {
          "data": {
            "image/png": "[encoded data removed]",
            "text/plain": [
              "<Figure size 1000x600 with 1 Axes>"
            ]
          },
          "metadata": {},
          "output_type": "display_data"
        }
      ],
      "source": [
        "# Scatter plot of distance vs. fare_amount\n",
        "plt.figure(figsize=(10, 6))\n",
        "sns.scatterplot(data=sample_df, x='distance', y='fare_amount', alpha=0.5)\n",
        "plt.title(\"Fare Amount vs. Distance\")\n",
        "plt.xlabel(\"Distance (km)\")\n",
        "plt.ylabel(\"Fare Amount\")\n",
        "plt.show()"
      ]
    },
    {
      "cell_type": "code",
      "execution_count": null,
      "id": "ccf753e5",
      "metadata": {
        "execution": {
          "iopub.execute_input": "2024-11-18T06:05:32.262358Z",
          "iopub.status.busy": "2024-11-18T06:05:32.262017Z",
          "iopub.status.idle": "2024-11-18T06:05:32.518746Z",
          "shell.execute_reply": "2024-11-18T06:05:32.517455Z"
        },
        "papermill": {
          "duration": 0.282724,
          "end_time": "2024-11-18T06:05:32.522007",
          "exception": false,
          "start_time": "2024-11-18T06:05:32.239283",
          "status": "completed"
        },
        "tags": [],
        "id": "ccf753e5"
      },
      "outputs": [],
      "source": [
        "from pyspark.ml.feature import VectorAssembler\n",
        "from pyspark.ml.regression import GBTRegressor\n",
        "from pyspark.ml.evaluation import RegressionEvaluator\n",
        "\n",
        "# Select relevant features and target column\n",
        "feature_columns = [\"distance\", \"pickup_longitude\", \"pickup_latitude\", \"dropoff_longitude\", \"dropoff_latitude\", \"passenger_count\"]\n",
        "\n",
        "# Assemble features into a single vector column\n",
        "assembler = VectorAssembler(inputCols=feature_columns, outputCol=\"features\")\n",
        "train_df = assembler.transform(train_df)\n",
        "\n",
        "# Split the data into training and testing sets\n",
        "train_data, test_data = train_df.randomSplit([0.8, 0.2], seed=42)\n"
      ]
    },
    {
      "cell_type": "code",
      "execution_count": null,
      "id": "a297ce4d",
      "metadata": {
        "execution": {
          "iopub.execute_input": "2024-11-18T06:05:32.589547Z",
          "iopub.status.busy": "2024-11-18T06:05:32.588520Z",
          "iopub.status.idle": "2024-11-18T06:26:11.497156Z",
          "shell.execute_reply": "2024-11-18T06:26:11.493560Z"
        },
        "papermill": {
          "duration": 1238.946432,
          "end_time": "2024-11-18T06:26:11.501142",
          "exception": false,
          "start_time": "2024-11-18T06:05:32.554710",
          "status": "completed"
        },
        "tags": [],
        "id": "a297ce4d",
        "outputId": "b68d2024-af1c-466e-8357-bb42d0aa51b5"
      },
      "outputs": [
        {
          "name": "stderr",
          "output_type": "stream",
          "text": [
            "24/11/18 06:13:22 WARN MemoryStore: Not enough space to cache rdd_44_3 in memory! (computed 18.4 MiB so far)\n",
            "24/11/18 06:13:22 WARN BlockManager: Persisting block rdd_44_3 to disk instead.\n",
            "24/11/18 06:13:22 WARN MemoryStore: Not enough space to cache rdd_44_2 in memory! (computed 18.4 MiB so far)\n",
            "24/11/18 06:13:22 WARN BlockManager: Persisting block rdd_44_2 to disk instead.\n",
            "24/11/18 06:13:22 WARN MemoryStore: Not enough space to cache rdd_44_1 in memory! (computed 27.6 MiB so far)\n",
            "24/11/18 06:13:22 WARN BlockManager: Persisting block rdd_44_1 to disk instead.\n",
            "24/11/18 06:13:22 WARN MemoryStore: Not enough space to cache rdd_44_0 in memory! (computed 27.6 MiB so far)\n",
            "24/11/18 06:13:22 WARN BlockManager: Persisting block rdd_44_0 to disk instead.\n",
            "24/11/18 06:13:54 WARN MemoryStore: Not enough space to cache rdd_44_4 in memory! (computed 43.6 MiB so far)\n",
            "24/11/18 06:13:54 WARN MemoryStore: Not enough space to cache rdd_44_5 in memory! (computed 27.6 MiB so far)\n",
            "24/11/18 06:13:54 WARN BlockManager: Persisting block rdd_44_5 to disk instead.\n",
            "24/11/18 06:13:54 WARN BlockManager: Persisting block rdd_44_4 to disk instead.\n",
            "24/11/18 06:13:55 WARN MemoryStore: Not enough space to cache rdd_44_7 in memory! (computed 65.4 MiB so far)\n",
            "24/11/18 06:13:55 WARN BlockManager: Persisting block rdd_44_7 to disk instead.\n",
            "24/11/18 06:14:00 WARN MemoryStore: Not enough space to cache rdd_44_4 in memory! (computed 65.4 MiB so far)\n",
            "24/11/18 06:14:00 WARN MemoryStore: Not enough space to cache rdd_44_4 in memory! (computed 27.6 MiB so far)\n",
            "24/11/18 06:14:27 WARN MemoryStore: Not enough space to cache rdd_44_9 in memory! (computed 65.4 MiB so far)\n",
            "24/11/18 06:14:27 WARN MemoryStore: Not enough space to cache rdd_44_10 in memory! (computed 27.6 MiB so far)\n",
            "24/11/18 06:14:27 WARN BlockManager: Persisting block rdd_44_10 to disk instead.\n",
            "24/11/18 06:14:27 WARN BlockManager: Persisting block rdd_44_9 to disk instead.\n",
            "24/11/18 06:14:30 WARN MemoryStore: Not enough space to cache rdd_44_9 in memory! (computed 43.6 MiB so far)\n",
            "24/11/18 06:14:59 WARN MemoryStore: Not enough space to cache rdd_44_14 in memory! (computed 12.3 MiB so far)\n",
            "24/11/18 06:14:59 WARN MemoryStore: Not enough space to cache rdd_44_15 in memory! (computed 8.2 MiB so far)\n",
            "24/11/18 06:14:59 WARN BlockManager: Persisting block rdd_44_15 to disk instead.\n",
            "24/11/18 06:14:59 WARN BlockManager: Persisting block rdd_44_14 to disk instead.\n",
            "24/11/18 06:15:32 WARN MemoryStore: Not enough space to cache rdd_44_19 in memory! (computed 43.6 MiB so far)\n",
            "24/11/18 06:15:32 WARN BlockManager: Persisting block rdd_44_19 to disk instead.\n",
            "24/11/18 06:16:32 WARN MemoryStore: Not enough space to cache rdd_44_26 in memory! (computed 43.6 MiB so far)\n",
            "24/11/18 06:16:32 WARN BlockManager: Persisting block rdd_44_26 to disk instead.\n",
            "24/11/18 06:16:38 WARN MemoryStore: Not enough space to cache rdd_44_26 in memory! (computed 65.4 MiB so far)\n",
            "24/11/18 06:17:06 WARN MemoryStore: Not enough space to cache rdd_44_30 in memory! (computed 65.4 MiB so far)\n",
            "24/11/18 06:17:06 WARN BlockManager: Persisting block rdd_44_30 to disk instead.\n",
            "24/11/18 06:17:24 WARN MemoryStore: Not enough space to cache rdd_44_33 in memory! (computed 43.6 MiB so far)\n",
            "24/11/18 06:17:24 WARN BlockManager: Persisting block rdd_44_33 to disk instead.\n",
            "24/11/18 06:17:37 WARN MemoryStore: Not enough space to cache rdd_44_34 in memory! (computed 43.6 MiB so far)\n",
            "24/11/18 06:17:37 WARN BlockManager: Persisting block rdd_44_34 to disk instead.\n",
            "24/11/18 06:18:11 WARN MemoryStore: Not enough space to cache rdd_44_39 in memory! (computed 65.4 MiB so far)\n",
            "24/11/18 06:18:11 WARN BlockManager: Persisting block rdd_44_39 to disk instead.\n",
            "24/11/18 06:18:24 WARN MemoryStore: Not enough space to cache rdd_44_41 in memory! (computed 65.4 MiB so far)\n",
            "24/11/18 06:18:24 WARN BlockManager: Persisting block rdd_44_41 to disk instead.\n",
            "24/11/18 06:18:28 WARN MemoryStore: Not enough space to cache rdd_44_3 in memory! (computed 27.6 MiB so far)\n",
            "24/11/18 06:18:28 WARN MemoryStore: Not enough space to cache rdd_44_2 in memory! (computed 18.4 MiB so far)\n",
            "24/11/18 06:18:28 WARN MemoryStore: Not enough space to cache rdd_44_0 in memory! (computed 27.6 MiB so far)\n",
            "24/11/18 06:18:32 WARN MemoryStore: Not enough space to cache rdd_44_7 in memory! (computed 8.2 MiB so far)\n",
            "24/11/18 06:18:32 WARN MemoryStore: Not enough space to cache rdd_44_6 in memory! (computed 18.4 MiB so far)\n",
            "24/11/18 06:18:32 WARN MemoryStore: Not enough space to cache rdd_44_5 in memory! (computed 27.6 MiB so far)\n",
            "24/11/18 06:18:35 WARN MemoryStore: Not enough space to cache rdd_44_10 in memory! (computed 18.4 MiB so far)\n",
            "24/11/18 06:18:35 WARN MemoryStore: Not enough space to cache rdd_44_11 in memory! (computed 18.4 MiB so far)\n",
            "24/11/18 06:18:35 WARN MemoryStore: Not enough space to cache rdd_44_8 in memory! (computed 27.6 MiB so far)\n",
            "24/11/18 06:18:35 WARN MemoryStore: Not enough space to cache rdd_44_9 in memory! (computed 43.6 MiB so far)\n",
            "24/11/18 06:18:38 WARN MemoryStore: Not enough space to cache rdd_44_15 in memory! (computed 27.6 MiB so far)\n",
            "24/11/18 06:18:38 WARN MemoryStore: Not enough space to cache rdd_44_13 in memory! (computed 27.6 MiB so far)\n",
            "24/11/18 06:18:38 WARN MemoryStore: Not enough space to cache rdd_44_14 in memory! (computed 27.6 MiB so far)\n",
            "24/11/18 06:18:41 WARN MemoryStore: Not enough space to cache rdd_44_17 in memory! (computed 27.6 MiB so far)\n",
            "24/11/18 06:18:41 WARN MemoryStore: Not enough space to cache rdd_44_18 in memory! (computed 18.4 MiB so far)\n",
            "24/11/18 06:18:41 WARN MemoryStore: Not enough space to cache rdd_44_16 in memory! (computed 43.6 MiB so far)\n",
            "24/11/18 06:18:44 WARN MemoryStore: Not enough space to cache rdd_44_21 in memory! (computed 43.6 MiB so far)\n",
            "24/11/18 06:18:44 WARN MemoryStore: Not enough space to cache rdd_44_20 in memory! (computed 43.6 MiB so far)\n",
            "24/11/18 06:18:45 WARN MemoryStore: Not enough space to cache rdd_44_22 in memory! (computed 18.4 MiB so far)\n",
            "24/11/18 06:18:47 WARN MemoryStore: Not enough space to cache rdd_44_24 in memory! (computed 43.6 MiB so far)\n",
            "24/11/18 06:18:47 WARN MemoryStore: Not enough space to cache rdd_44_25 in memory! (computed 43.6 MiB so far)\n",
            "24/11/18 06:18:48 WARN MemoryStore: Not enough space to cache rdd_44_26 in memory! (computed 65.4 MiB so far)\n",
            "24/11/18 06:18:50 WARN MemoryStore: Not enough space to cache rdd_44_29 in memory! (computed 27.6 MiB so far)\n",
            "24/11/18 06:18:51 WARN MemoryStore: Not enough space to cache rdd_44_30 in memory! (computed 43.6 MiB so far)\n",
            "24/11/18 06:18:53 WARN MemoryStore: Not enough space to cache rdd_44_33 in memory! (computed 8.2 MiB so far)\n",
            "24/11/18 06:18:54 WARN MemoryStore: Not enough space to cache rdd_44_32 in memory! (computed 43.6 MiB so far)\n",
            "24/11/18 06:18:54 WARN MemoryStore: Not enough space to cache rdd_44_34 in memory! (computed 3.4 MiB so far)\n",
            "24/11/18 06:18:56 WARN MemoryStore: Not enough space to cache rdd_44_39 in memory! (computed 1024.3 KiB so far)\n",
            "24/11/18 06:18:57 WARN MemoryStore: Not enough space to cache rdd_44_38 in memory! (computed 18.4 MiB so far)\n",
            "24/11/18 06:18:59 WARN MemoryStore: Not enough space to cache rdd_44_40 in memory! (computed 27.6 MiB so far)\n",
            "24/11/18 06:19:00 WARN MemoryStore: Not enough space to cache rdd_44_41 in memory! (computed 18.4 MiB so far)\n",
            "24/11/18 06:19:00 WARN MemoryStore: Not enough space to cache rdd_44_42 in memory! (computed 3.4 MiB so far)\n",
            "24/11/18 06:19:02 WARN MemoryStore: Not enough space to cache rdd_44_3 in memory! (computed 27.6 MiB so far)\n",
            "24/11/18 06:19:02 WARN MemoryStore: Not enough space to cache rdd_44_1 in memory! (computed 27.6 MiB so far)\n",
            "24/11/18 06:19:02 WARN MemoryStore: Not enough space to cache rdd_44_0 in memory! (computed 27.6 MiB so far)\n",
            "24/11/18 06:19:06 WARN MemoryStore: Not enough space to cache rdd_44_4 in memory! (computed 43.6 MiB so far)\n",
            "24/11/18 06:19:06 WARN MemoryStore: Not enough space to cache rdd_44_6 in memory! (computed 27.6 MiB so far)\n",
            "24/11/18 06:19:06 WARN MemoryStore: Not enough space to cache rdd_44_5 in memory! (computed 27.6 MiB so far)\n",
            "24/11/18 06:19:09 WARN MemoryStore: Not enough space to cache rdd_44_10 in memory! (computed 43.6 MiB so far)\n",
            "24/11/18 06:19:09 WARN MemoryStore: Not enough space to cache rdd_44_8 in memory! (computed 43.6 MiB so far)\n",
            "24/11/18 06:19:09 WARN MemoryStore: Not enough space to cache rdd_44_9 in memory! (computed 65.4 MiB so far)\n",
            "24/11/18 06:19:12 WARN MemoryStore: Not enough space to cache rdd_44_14 in memory! (computed 43.6 MiB so far)\n",
            "24/11/18 06:19:12 WARN MemoryStore: Not enough space to cache rdd_44_12 in memory! (computed 65.4 MiB so far)\n",
            "24/11/18 06:19:13 WARN MemoryStore: Not enough space to cache rdd_44_13 in memory! (computed 65.4 MiB so far)\n",
            "24/11/18 06:19:16 WARN MemoryStore: Not enough space to cache rdd_44_16 in memory! (computed 65.4 MiB so far)\n",
            "24/11/18 06:19:16 WARN MemoryStore: Not enough space to cache rdd_44_17 in memory! (computed 65.4 MiB so far)\n",
            "24/11/18 06:19:20 WARN MemoryStore: Not enough space to cache rdd_44_20 in memory! (computed 65.4 MiB so far)\n",
            "24/11/18 06:19:20 WARN MemoryStore: Not enough space to cache rdd_44_21 in memory! (computed 65.4 MiB so far)\n",
            "24/11/18 06:19:21 WARN MemoryStore: Not enough space to cache rdd_44_23 in memory! (computed 43.6 MiB so far)\n",
            "24/11/18 06:19:23 WARN MemoryStore: Not enough space to cache rdd_44_24 in memory! (computed 65.4 MiB so far)\n",
            "24/11/18 06:19:23 WARN MemoryStore: Not enough space to cache rdd_44_25 in memory! (computed 65.4 MiB so far)\n",
            "24/11/18 06:19:24 WARN MemoryStore: Not enough space to cache rdd_44_27 in memory! (computed 43.6 MiB so far)\n",
            "24/11/18 06:19:26 WARN MemoryStore: Not enough space to cache rdd_44_29 in memory! (computed 65.4 MiB so far)\n",
            "24/11/18 06:19:26 WARN MemoryStore: Not enough space to cache rdd_44_28 in memory! (computed 65.4 MiB so far)\n",
            "24/11/18 06:19:30 WARN MemoryStore: Not enough space to cache rdd_44_32 in memory! (computed 65.4 MiB so far)\n",
            "24/11/18 06:19:31 WARN MemoryStore: Not enough space to cache rdd_44_35 in memory! (computed 43.6 MiB so far)\n",
            "24/11/18 06:19:33 WARN MemoryStore: Not enough space to cache rdd_44_37 in memory! (computed 43.6 MiB so far)\n",
            "24/11/18 06:19:33 WARN MemoryStore: Not enough space to cache rdd_44_36 in memory! (computed 43.6 MiB so far)\n",
            "24/11/18 06:19:36 WARN MemoryStore: Not enough space to cache rdd_44_40 in memory! (computed 27.6 MiB so far)\n",
            "24/11/18 06:19:38 WARN MemoryStore: Not enough space to cache rdd_44_41 in memory! (computed 65.4 MiB so far)\n",
            "24/11/18 06:19:39 WARN MemoryStore: Not enough space to cache rdd_44_2 in memory! (computed 18.4 MiB so far)\n",
            "24/11/18 06:19:39 WARN MemoryStore: Not enough space to cache rdd_44_1 in memory! (computed 27.6 MiB so far)\n",
            "24/11/18 06:19:40 WARN MemoryStore: Not enough space to cache rdd_44_0 in memory! (computed 43.6 MiB so far)\n",
            "24/11/18 06:19:43 WARN MemoryStore: Not enough space to cache rdd_44_4 in memory! (computed 43.6 MiB so far)\n",
            "24/11/18 06:19:43 WARN MemoryStore: Not enough space to cache rdd_44_6 in memory! (computed 18.4 MiB so far)\n",
            "24/11/18 06:19:43 WARN MemoryStore: Not enough space to cache rdd_44_5 in memory! (computed 27.6 MiB so far)\n",
            "24/11/18 06:19:46 WARN MemoryStore: Not enough space to cache rdd_44_9 in memory! (computed 18.4 MiB so far)\n",
            "24/11/18 06:19:46 WARN MemoryStore: Not enough space to cache rdd_44_8 in memory! (computed 43.6 MiB so far)\n",
            "24/11/18 06:19:46 WARN MemoryStore: Not enough space to cache rdd_44_10 in memory! (computed 27.6 MiB so far)\n",
            "24/11/18 06:19:49 WARN MemoryStore: Not enough space to cache rdd_44_13 in memory! (computed 43.6 MiB so far)\n",
            "24/11/18 06:19:49 WARN MemoryStore: Not enough space to cache rdd_44_12 in memory! (computed 27.6 MiB so far)\n",
            "24/11/18 06:19:50 WARN MemoryStore: Not enough space to cache rdd_44_14 in memory! (computed 18.4 MiB so far)\n",
            "24/11/18 06:19:52 WARN MemoryStore: Not enough space to cache rdd_44_16 in memory! (computed 43.6 MiB so far)\n",
            "24/11/18 06:19:53 WARN MemoryStore: Not enough space to cache rdd_44_17 in memory! (computed 27.6 MiB so far)\n",
            "24/11/18 06:19:53 WARN MemoryStore: Not enough space to cache rdd_44_18 in memory! (computed 27.6 MiB so far)\n",
            "24/11/18 06:19:56 WARN MemoryStore: Not enough space to cache rdd_44_21 in memory! (computed 43.6 MiB so far)\n",
            "24/11/18 06:19:57 WARN MemoryStore: Not enough space to cache rdd_44_20 in memory! (computed 65.4 MiB so far)\n",
            "24/11/18 06:19:57 WARN MemoryStore: Not enough space to cache rdd_44_23 in memory! (computed 27.6 MiB so far)\n",
            "24/11/18 06:20:00 WARN MemoryStore: Not enough space to cache rdd_44_25 in memory! (computed 65.4 MiB so far)\n",
            "24/11/18 06:20:01 WARN MemoryStore: Not enough space to cache rdd_44_26 in memory! (computed 65.4 MiB so far)\n",
            "24/11/18 06:20:04 WARN MemoryStore: Not enough space to cache rdd_44_31 in memory! (computed 18.4 MiB so far)\n",
            "24/11/18 06:20:05 WARN MemoryStore: Not enough space to cache rdd_44_32 in memory! (computed 18.4 MiB so far)\n",
            "24/11/18 06:20:09 WARN MemoryStore: Not enough space to cache rdd_44_34 in memory! (computed 27.6 MiB so far)\n",
            "24/11/18 06:20:09 WARN MemoryStore: Not enough space to cache rdd_44_35 in memory! (computed 18.4 MiB so far)\n",
            "24/11/18 06:20:10 WARN MemoryStore: Not enough space to cache rdd_44_36 in memory! (computed 65.4 MiB so far)\n",
            "24/11/18 06:20:11 WARN MemoryStore: Not enough space to cache rdd_44_37 in memory! (computed 43.6 MiB so far)\n",
            "24/11/18 06:20:13 WARN MemoryStore: Not enough space to cache rdd_44_40 in memory! (computed 18.4 MiB so far)\n",
            "24/11/18 06:20:13 WARN MemoryStore: Not enough space to cache rdd_44_39 in memory! (computed 43.6 MiB so far)\n",
            "24/11/18 06:20:17 WARN MemoryStore: Not enough space to cache rdd_44_1 in memory! (computed 3.4 MiB so far)\n",
            "24/11/18 06:20:17 WARN MemoryStore: Not enough space to cache rdd_44_0 in memory! (computed 27.6 MiB so far)\n",
            "24/11/18 06:20:17 WARN MemoryStore: Not enough space to cache rdd_44_3 in memory! (computed 27.6 MiB so far)\n",
            "24/11/18 06:20:17 WARN MemoryStore: Not enough space to cache rdd_44_2 in memory! (computed 27.6 MiB so far)\n",
            "24/11/18 06:20:21 WARN MemoryStore: Not enough space to cache rdd_44_5 in memory! (computed 43.6 MiB so far)\n",
            "24/11/18 06:20:21 WARN MemoryStore: Not enough space to cache rdd_44_6 in memory! (computed 27.6 MiB so far)\n",
            "24/11/18 06:20:21 WARN MemoryStore: Not enough space to cache rdd_44_7 in memory! (computed 27.6 MiB so far)\n",
            "24/11/18 06:20:24 WARN MemoryStore: Not enough space to cache rdd_44_10 in memory! (computed 43.6 MiB so far)\n",
            "24/11/18 06:20:24 WARN MemoryStore: Not enough space to cache rdd_44_8 in memory! (computed 43.6 MiB so far)\n",
            "24/11/18 06:20:24 WARN MemoryStore: Not enough space to cache rdd_44_9 in memory! (computed 43.6 MiB so far)\n",
            "24/11/18 06:20:28 WARN MemoryStore: Not enough space to cache rdd_44_15 in memory! (computed 43.6 MiB so far)\n",
            "24/11/18 06:20:28 WARN MemoryStore: Not enough space to cache rdd_44_13 in memory! (computed 43.6 MiB so far)\n",
            "24/11/18 06:20:28 WARN MemoryStore: Not enough space to cache rdd_44_12 in memory! (computed 65.4 MiB so far)\n",
            "24/11/18 06:20:28 WARN MemoryStore: Not enough space to cache rdd_44_14 in memory! (computed 65.4 MiB so far)\n",
            "24/11/18 06:20:31 WARN MemoryStore: Not enough space to cache rdd_44_16 in memory! (computed 65.4 MiB so far)\n",
            "24/11/18 06:20:31 WARN MemoryStore: Not enough space to cache rdd_44_19 in memory! (computed 43.6 MiB so far)\n",
            "24/11/18 06:20:31 WARN MemoryStore: Not enough space to cache rdd_44_17 in memory! (computed 65.4 MiB so far)\n",
            "24/11/18 06:20:32 WARN MemoryStore: Not enough space to cache rdd_44_18 in memory! (computed 65.4 MiB so far)\n",
            "24/11/18 06:20:35 WARN MemoryStore: Not enough space to cache rdd_44_21 in memory! (computed 65.4 MiB so far)\n",
            "24/11/18 06:20:35 WARN MemoryStore: Not enough space to cache rdd_44_20 in memory! (computed 65.4 MiB so far)\n",
            "24/11/18 06:20:38 WARN MemoryStore: Not enough space to cache rdd_44_24 in memory! (computed 65.4 MiB so far)\n",
            "24/11/18 06:20:38 WARN MemoryStore: Not enough space to cache rdd_44_26 in memory! (computed 43.6 MiB so far)\n",
            "24/11/18 06:20:42 WARN MemoryStore: Not enough space to cache rdd_44_28 in memory! (computed 65.4 MiB so far)\n",
            "24/11/18 06:20:42 WARN MemoryStore: Not enough space to cache rdd_44_30 in memory! (computed 18.4 MiB so far)\n",
            "24/11/18 06:20:43 WARN MemoryStore: Not enough space to cache rdd_44_29 in memory! (computed 65.4 MiB so far)\n",
            "24/11/18 06:20:46 WARN MemoryStore: Not enough space to cache rdd_44_32 in memory! (computed 65.4 MiB so far)\n",
            "24/11/18 06:20:49 WARN MemoryStore: Not enough space to cache rdd_44_38 in memory! (computed 18.4 MiB so far)\n",
            "24/11/18 06:20:49 WARN MemoryStore: Not enough space to cache rdd_44_36 in memory! (computed 65.4 MiB so far)\n",
            "24/11/18 06:20:50 WARN MemoryStore: Not enough space to cache rdd_44_37 in memory! (computed 65.4 MiB so far)\n",
            "24/11/18 06:20:50 WARN MemoryStore: Not enough space to cache rdd_44_39 in memory! (computed 43.6 MiB so far)\n",
            "24/11/18 06:20:53 WARN MemoryStore: Not enough space to cache rdd_44_41 in memory! (computed 65.4 MiB so far)\n",
            "24/11/18 06:20:55 WARN MemoryStore: Not enough space to cache rdd_44_1 in memory! (computed 18.4 MiB so far)\n",
            "24/11/18 06:20:55 WARN MemoryStore: Not enough space to cache rdd_44_0 in memory! (computed 18.4 MiB so far)\n",
            "24/11/18 06:20:55 WARN MemoryStore: Not enough space to cache rdd_44_2 in memory! (computed 27.6 MiB so far)\n",
            "24/11/18 06:20:55 WARN MemoryStore: Failed to reserve initial memory threshold of 1024.0 KiB for computing block rdd_44_2 in memory.\n",
            "24/11/18 06:20:55 WARN MemoryStore: Not enough space to cache rdd_44_1 in memory! (computed 3.4 MiB so far)\n",
            "24/11/18 06:20:55 WARN MemoryStore: Not enough space to cache rdd_44_2 in memory! (computed 384.0 B so far)\n",
            "24/11/18 06:20:55 WARN MemoryStore: Failed to reserve initial memory threshold of 1024.0 KiB for computing block rdd_44_2 in memory.\n",
            "24/11/18 06:20:55 WARN MemoryStore: Not enough space to cache rdd_44_2 in memory! (computed 384.0 B so far)\n",
            "24/11/18 06:20:55 WARN MemoryStore: Failed to reserve initial memory threshold of 1024.0 KiB for computing block rdd_44_1 in memory.\n",
            "24/11/18 06:20:55 WARN MemoryStore: Not enough space to cache rdd_44_1 in memory! (computed 384.0 B so far)\n",
            "24/11/18 06:20:56 WARN MemoryStore: Not enough space to cache rdd_44_3 in memory! (computed 65.4 MiB so far)\n",
            "24/11/18 06:20:57 WARN MemoryStore: Not enough space to cache rdd_44_0 in memory! (computed 43.6 MiB so far)\n",
            "24/11/18 06:20:57 WARN MemoryStore: Not enough space to cache rdd_44_0 in memory! (computed 3.4 MiB so far)\n",
            "24/11/18 06:20:58 WARN MemoryStore: Not enough space to cache rdd_44_3 in memory! (computed 43.6 MiB so far)\n",
            "24/11/18 06:20:58 WARN MemoryStore: Not enough space to cache rdd_44_3 in memory! (computed 1536.9 KiB so far)\n",
            "24/11/18 06:20:59 WARN MemoryStore: Not enough space to cache rdd_64_0 in memory! (computed 43.9 MiB so far)\n",
            "24/11/18 06:20:59 WARN BlockManager: Persisting block rdd_64_0 to disk instead.\n",
            "24/11/18 06:20:59 WARN MemoryStore: Not enough space to cache rdd_67_2 in memory! (computed 16.2 MiB so far)\n",
            "24/11/18 06:20:59 WARN BlockManager: Persisting block rdd_67_2 to disk instead.\n",
            "24/11/18 06:20:59 WARN MemoryStore: Not enough space to cache rdd_67_1 in memory! (computed 24.3 MiB so far)\n",
            "24/11/18 06:20:59 WARN BlockManager: Persisting block rdd_67_1 to disk instead.\n",
            "24/11/18 06:21:11 WARN MemoryStore: Not enough space to cache rdd_64_6 in memory! (computed 29.2 MiB so far)\n",
            "24/11/18 06:21:11 WARN BlockManager: Persisting block rdd_64_6 to disk instead.\n",
            "24/11/18 06:21:11 WARN MemoryStore: Not enough space to cache rdd_64_7 in memory! (computed 43.9 MiB so far)\n",
            "24/11/18 06:21:11 WARN BlockManager: Persisting block rdd_64_7 to disk instead.\n",
            "24/11/18 06:21:11 WARN MemoryStore: Not enough space to cache rdd_67_5 in memory! (computed 24.3 MiB so far)\n",
            "24/11/18 06:21:11 WARN BlockManager: Persisting block rdd_67_5 to disk instead.\n",
            "24/11/18 06:21:11 WARN MemoryStore: Not enough space to cache rdd_44_8 in memory! (computed 65.4 MiB so far)\n",
            "24/11/18 06:21:11 WARN MemoryStore: Not enough space to cache rdd_44_8 in memory! (computed 1536.9 KiB so far)\n",
            "24/11/18 06:21:11 WARN MemoryStore: Failed to reserve initial memory threshold of 1024.0 KiB for computing block rdd_44_8 in memory.\n",
            "24/11/18 06:21:11 WARN MemoryStore: Not enough space to cache rdd_44_8 in memory! (computed 384.0 B so far)\n",
            "24/11/18 06:21:11 WARN MemoryStore: Failed to reserve initial memory threshold of 1024.0 KiB for computing block rdd_64_8 in memory.\n",
            "24/11/18 06:21:11 WARN MemoryStore: Not enough space to cache rdd_64_8 in memory! (computed 384.0 B so far)\n",
            "24/11/18 06:21:11 WARN BlockManager: Persisting block rdd_64_8 to disk instead.\n",
            "24/11/18 06:21:13 WARN MemoryStore: Not enough space to cache rdd_64_6 in memory! (computed 29.2 MiB so far)\n",
            "24/11/18 06:21:14 WARN MemoryStore: Not enough space to cache rdd_67_7 in memory! (computed 10.8 MiB so far)\n",
            "24/11/18 06:21:14 WARN BlockManager: Persisting block rdd_67_7 to disk instead.\n",
            "24/11/18 06:21:14 WARN MemoryStore: Not enough space to cache rdd_67_5 in memory! (computed 24.3 MiB so far)\n",
            "24/11/18 06:21:14 WARN MemoryStore: Not enough space to cache rdd_64_8 in memory! (computed 13.0 MiB so far)\n",
            "24/11/18 06:21:14 WARN MemoryStore: Not enough space to cache rdd_67_6 in memory! (computed 16.2 MiB so far)\n",
            "24/11/18 06:21:14 WARN BlockManager: Persisting block rdd_67_6 to disk instead.\n",
            "24/11/18 06:21:23 WARN MemoryStore: Not enough space to cache rdd_67_10 in memory! (computed 10.8 MiB so far)\n",
            "24/11/18 06:21:23 WARN BlockManager: Persisting block rdd_67_10 to disk instead.\n",
            "24/11/18 06:21:23 WARN MemoryStore: Not enough space to cache rdd_64_12 in memory! (computed 29.2 MiB so far)\n",
            "24/11/18 06:21:23 WARN BlockManager: Persisting block rdd_64_12 to disk instead.\n",
            "24/11/18 06:21:24 WARN MemoryStore: Not enough space to cache rdd_67_11 in memory! (computed 16.2 MiB so far)\n",
            "24/11/18 06:21:24 WARN BlockManager: Persisting block rdd_67_11 to disk instead.\n",
            "24/11/18 06:21:24 WARN MemoryStore: Not enough space to cache rdd_64_13 in memory! (computed 29.2 MiB so far)\n",
            "24/11/18 06:21:24 WARN BlockManager: Persisting block rdd_64_13 to disk instead.\n",
            "24/11/18 06:21:27 WARN MemoryStore: Not enough space to cache rdd_67_11 in memory! (computed 24.3 MiB so far)\n",
            "24/11/18 06:21:27 WARN MemoryStore: Not enough space to cache rdd_67_12 in memory! (computed 10.8 MiB so far)\n",
            "24/11/18 06:21:27 WARN BlockManager: Persisting block rdd_67_12 to disk instead.\n",
            "24/11/18 06:21:27 WARN MemoryStore: Not enough space to cache rdd_64_13 in memory! (computed 13.0 MiB so far)\n",
            "24/11/18 06:21:30 WARN MemoryStore: Not enough space to cache rdd_44_14 in memory! (computed 65.4 MiB so far)\n",
            "24/11/18 06:21:30 WARN MemoryStore: Not enough space to cache rdd_44_14 in memory! (computed 3.4 MiB so far)\n",
            "24/11/18 06:21:30 WARN MemoryStore: Not enough space to cache rdd_44_15 in memory! (computed 65.4 MiB so far)\n",
            "24/11/18 06:21:30 WARN MemoryStore: Failed to reserve initial memory threshold of 1024.0 KiB for computing block rdd_44_15 in memory.\n",
            "24/11/18 06:21:30 WARN MemoryStore: Not enough space to cache rdd_44_15 in memory! (computed 384.0 B so far)\n",
            "24/11/18 06:21:30 WARN MemoryStore: Failed to reserve initial memory threshold of 1024.0 KiB for computing block rdd_44_15 in memory.\n",
            "24/11/18 06:21:30 WARN MemoryStore: Not enough space to cache rdd_44_15 in memory! (computed 384.0 B so far)\n",
            "24/11/18 06:21:31 WARN MemoryStore: Not enough space to cache rdd_44_16 in memory! (computed 43.6 MiB so far)\n",
            "24/11/18 06:21:31 WARN MemoryStore: Not enough space to cache rdd_44_16 in memory! (computed 1024.3 KiB so far)\n",
            "24/11/18 06:21:31 WARN MemoryStore: Failed to reserve initial memory threshold of 1024.0 KiB for computing block rdd_44_16 in memory.\n",
            "24/11/18 06:21:31 WARN MemoryStore: Not enough space to cache rdd_44_16 in memory! (computed 384.0 B so far)\n",
            "24/11/18 06:21:31 WARN MemoryStore: Not enough space to cache rdd_44_17 in memory! (computed 12.3 MiB so far)\n",
            "24/11/18 06:21:32 WARN MemoryStore: Not enough space to cache rdd_44_14 in memory! (computed 65.4 MiB so far)\n",
            "24/11/18 06:21:33 WARN MemoryStore: Not enough space to cache rdd_64_16 in memory! (computed 19.5 MiB so far)\n",
            "24/11/18 06:21:33 WARN BlockManager: Persisting block rdd_64_16 to disk instead.\n",
            "24/11/18 06:21:34 WARN MemoryStore: Not enough space to cache rdd_67_15 in memory! (computed 24.3 MiB so far)\n",
            "24/11/18 06:21:34 WARN BlockManager: Persisting block rdd_67_15 to disk instead.\n",
            "24/11/18 06:21:34 WARN MemoryStore: Not enough space to cache rdd_67_14 in memory! (computed 16.2 MiB so far)\n",
            "24/11/18 06:21:34 WARN BlockManager: Persisting block rdd_67_14 to disk instead.\n",
            "24/11/18 06:21:34 WARN MemoryStore: Not enough space to cache rdd_64_17 in memory! (computed 43.9 MiB so far)\n",
            "24/11/18 06:21:34 WARN BlockManager: Persisting block rdd_64_17 to disk instead.\n",
            "24/11/18 06:21:36 WARN MemoryStore: Not enough space to cache rdd_64_17 in memory! (computed 29.2 MiB so far)\n",
            "24/11/18 06:21:38 WARN MemoryStore: Not enough space to cache rdd_67_16 in memory! (computed 16.2 MiB so far)\n",
            "24/11/18 06:21:38 WARN BlockManager: Persisting block rdd_67_16 to disk instead.\n",
            "24/11/18 06:21:43 WARN MemoryStore: Not enough space to cache rdd_67_18 in memory! (computed 16.2 MiB so far)\n",
            "24/11/18 06:21:43 WARN BlockManager: Persisting block rdd_67_18 to disk instead.\n",
            "24/11/18 06:21:44 WARN MemoryStore: Not enough space to cache rdd_64_20 in memory! (computed 43.9 MiB so far)\n",
            "24/11/18 06:21:44 WARN BlockManager: Persisting block rdd_64_20 to disk instead.\n",
            "24/11/18 06:21:48 WARN MemoryStore: Not enough space to cache rdd_44_21 in memory! (computed 65.4 MiB so far)\n",
            "24/11/18 06:21:49 WARN MemoryStore: Not enough space to cache rdd_67_20 in memory! (computed 16.2 MiB so far)\n",
            "24/11/18 06:21:49 WARN BlockManager: Persisting block rdd_67_20 to disk instead.\n",
            "24/11/18 06:21:49 WARN MemoryStore: Not enough space to cache rdd_64_22 in memory! (computed 19.5 MiB so far)\n",
            "24/11/18 06:21:49 WARN BlockManager: Persisting block rdd_64_22 to disk instead.\n",
            "24/11/18 06:21:50 WARN MemoryStore: Not enough space to cache rdd_44_23 in memory! (computed 65.4 MiB so far)\n",
            "24/11/18 06:21:50 WARN MemoryStore: Not enough space to cache rdd_44_23 in memory! (computed 18.4 MiB so far)\n",
            "24/11/18 06:21:50 WARN MemoryStore: Not enough space to cache rdd_64_21 in memory! (computed 13.0 MiB so far)\n",
            "24/11/18 06:21:50 WARN BlockManager: Persisting block rdd_64_21 to disk instead.\n",
            "24/11/18 06:21:50 WARN MemoryStore: Not enough space to cache rdd_44_23 in memory! (computed 1536.9 KiB so far)\n",
            "24/11/18 06:21:50 WARN MemoryStore: Failed to reserve initial memory threshold of 1024.0 KiB for computing block rdd_64_23 in memory.\n",
            "24/11/18 06:21:50 WARN MemoryStore: Not enough space to cache rdd_64_23 in memory! (computed 384.0 B so far)\n",
            "24/11/18 06:21:50 WARN BlockManager: Persisting block rdd_64_23 to disk instead.\n",
            "24/11/18 06:21:50 WARN MemoryStore: Not enough space to cache rdd_64_22 in memory! (computed 2.4 MiB so far)\n",
            "24/11/18 06:21:51 WARN MemoryStore: Not enough space to cache rdd_67_22 in memory! (computed 16.2 MiB so far)\n",
            "24/11/18 06:21:51 WARN BlockManager: Persisting block rdd_67_22 to disk instead.\n",
            "24/11/18 06:21:52 WARN MemoryStore: Not enough space to cache rdd_64_21 in memory! (computed 5.5 MiB so far)\n",
            "24/11/18 06:21:52 WARN MemoryStore: Failed to reserve initial memory threshold of 1024.0 KiB for computing block rdd_67_21 in memory.\n",
            "24/11/18 06:21:52 WARN MemoryStore: Not enough space to cache rdd_67_21 in memory! (computed 384.0 B so far)\n",
            "24/11/18 06:21:52 WARN BlockManager: Persisting block rdd_67_21 to disk instead.\n",
            "24/11/18 06:21:53 WARN MemoryStore: Not enough space to cache rdd_44_24 in memory! (computed 27.6 MiB so far)\n",
            "24/11/18 06:21:54 WARN MemoryStore: Not enough space to cache rdd_44_24 in memory! (computed 2.3 MiB so far)\n",
            "24/11/18 06:21:54 WARN MemoryStore: Failed to reserve initial memory threshold of 1024.0 KiB for computing block rdd_44_24 in memory.\n",
            "24/11/18 06:21:54 WARN MemoryStore: Not enough space to cache rdd_44_24 in memory! (computed 384.0 B so far)\n",
            "24/11/18 06:21:54 WARN MemoryStore: Not enough space to cache rdd_67_22 in memory! (computed 24.3 MiB so far)\n",
            "24/11/18 06:21:54 WARN MemoryStore: Not enough space to cache rdd_67_21 in memory! (computed 16.2 MiB so far)\n",
            "24/11/18 06:21:55 WARN MemoryStore: Not enough space to cache rdd_64_23 in memory! (computed 43.9 MiB so far)\n",
            "24/11/18 06:21:55 WARN MemoryStore: Failed to reserve initial memory threshold of 1024.0 KiB for computing block rdd_67_23 in memory.\n",
            "24/11/18 06:21:55 WARN MemoryStore: Not enough space to cache rdd_67_23 in memory! (computed 384.0 B so far)\n",
            "24/11/18 06:21:55 WARN BlockManager: Persisting block rdd_67_23 to disk instead.\n",
            "24/11/18 06:21:55 WARN MemoryStore: Not enough space to cache rdd_64_24 in memory! (computed 19.5 MiB so far)\n",
            "24/11/18 06:21:55 WARN BlockManager: Persisting block rdd_64_24 to disk instead.\n",
            "24/11/18 06:21:57 WARN MemoryStore: Not enough space to cache rdd_44_25 in memory! (computed 65.4 MiB so far)\n",
            "24/11/18 06:21:57 WARN MemoryStore: Not enough space to cache rdd_44_26 in memory! (computed 43.6 MiB so far)\n",
            "24/11/18 06:21:58 WARN MemoryStore: Not enough space to cache rdd_44_26 in memory! (computed 27.6 MiB so far)\n",
            "24/11/18 06:21:58 WARN MemoryStore: Failed to reserve initial memory threshold of 1024.0 KiB for computing block rdd_44_26 in memory.\n",
            "24/11/18 06:21:58 WARN MemoryStore: Not enough space to cache rdd_44_26 in memory! (computed 384.0 B so far)\n",
            "24/11/18 06:21:59 WARN MemoryStore: Not enough space to cache rdd_64_26 in memory! (computed 13.0 MiB so far)\n",
            "24/11/18 06:21:59 WARN BlockManager: Persisting block rdd_64_26 to disk instead.\n",
            "24/11/18 06:21:59 WARN MemoryStore: Not enough space to cache rdd_67_24 in memory! (computed 16.2 MiB so far)\n",
            "24/11/18 06:21:59 WARN BlockManager: Persisting block rdd_67_24 to disk instead.\n",
            "24/11/18 06:22:01 WARN MemoryStore: Not enough space to cache rdd_67_25 in memory! (computed 24.3 MiB so far)\n",
            "24/11/18 06:22:01 WARN BlockManager: Persisting block rdd_67_25 to disk instead.\n",
            "24/11/18 06:22:01 WARN MemoryStore: Not enough space to cache rdd_64_26 in memory! (computed 5.5 MiB so far)\n",
            "24/11/18 06:22:03 WARN MemoryStore: Not enough space to cache rdd_67_27 in memory! (computed 16.2 MiB so far)\n",
            "24/11/18 06:22:03 WARN BlockManager: Persisting block rdd_67_27 to disk instead.\n",
            "24/11/18 06:22:03 WARN MemoryStore: Not enough space to cache rdd_67_25 in memory! (computed 24.3 MiB so far)\n",
            "24/11/18 06:22:04 WARN MemoryStore: Not enough space to cache rdd_67_26 in memory! (computed 24.3 MiB so far)\n",
            "24/11/18 06:22:04 WARN BlockManager: Persisting block rdd_67_26 to disk instead.\n",
            "24/11/18 06:22:07 WARN MemoryStore: Not enough space to cache rdd_44_28 in memory! (computed 65.4 MiB so far)\n",
            "24/11/18 06:22:07 WARN MemoryStore: Not enough space to cache rdd_44_30 in memory! (computed 27.6 MiB so far)\n",
            "24/11/18 06:22:08 WARN MemoryStore: Not enough space to cache rdd_44_30 in memory! (computed 2.3 MiB so far)\n",
            "24/11/18 06:22:08 WARN MemoryStore: Failed to reserve initial memory threshold of 1024.0 KiB for computing block rdd_44_30 in memory.\n",
            "24/11/18 06:22:08 WARN MemoryStore: Not enough space to cache rdd_44_30 in memory! (computed 384.0 B so far)\n",
            "24/11/18 06:22:12 WARN MemoryStore: Not enough space to cache rdd_44_31 in memory! (computed 65.4 MiB so far)\n",
            "24/11/18 06:22:12 WARN MemoryStore: Not enough space to cache rdd_44_31 in memory! (computed 8.2 MiB so far)\n",
            "24/11/18 06:22:12 WARN MemoryStore: Not enough space to cache rdd_44_32 in memory! (computed 43.6 MiB so far)\n",
            "24/11/18 06:22:12 WARN MemoryStore: Not enough space to cache rdd_44_31 in memory! (computed 1536.9 KiB so far)\n",
            "24/11/18 06:22:12 WARN MemoryStore: Failed to reserve initial memory threshold of 1024.0 KiB for computing block rdd_64_31 in memory.\n",
            "24/11/18 06:22:12 WARN MemoryStore: Not enough space to cache rdd_64_31 in memory! (computed 384.0 B so far)\n",
            "24/11/18 06:22:12 WARN BlockManager: Persisting block rdd_64_31 to disk instead.\n",
            "24/11/18 06:22:12 WARN MemoryStore: Not enough space to cache rdd_44_32 in memory! (computed 2.3 MiB so far)\n",
            "24/11/18 06:22:12 WARN MemoryStore: Failed to reserve initial memory threshold of 1024.0 KiB for computing block rdd_44_32 in memory.\n",
            "24/11/18 06:22:12 WARN MemoryStore: Not enough space to cache rdd_44_32 in memory! (computed 384.0 B so far)\n",
            "24/11/18 06:22:12 WARN MemoryStore: Failed to reserve initial memory threshold of 1024.0 KiB for computing block rdd_64_32 in memory.\n",
            "24/11/18 06:22:12 WARN MemoryStore: Not enough space to cache rdd_64_32 in memory! (computed 384.0 B so far)\n",
            "24/11/18 06:22:12 WARN BlockManager: Persisting block rdd_64_32 to disk instead.\n",
            "24/11/18 06:22:19 WARN MemoryStore: Not enough space to cache rdd_67_33 in memory! (computed 6.2 MiB so far)\n",
            "24/11/18 06:22:19 WARN BlockManager: Persisting block rdd_67_33 to disk instead.\n",
            "24/11/18 06:22:19 WARN MemoryStore: Not enough space to cache rdd_44_34 in memory! (computed 43.6 MiB so far)\n",
            "24/11/18 06:22:20 WARN MemoryStore: Not enough space to cache rdd_44_34 in memory! (computed 5.4 MiB so far)\n",
            "24/11/18 06:22:20 WARN MemoryStore: Not enough space to cache rdd_44_34 in memory! (computed 1536.9 KiB so far)\n",
            "24/11/18 06:22:20 WARN MemoryStore: Failed to reserve initial memory threshold of 1024.0 KiB for computing block rdd_64_34 in memory.\n",
            "24/11/18 06:22:20 WARN MemoryStore: Not enough space to cache rdd_64_34 in memory! (computed 384.0 B so far)\n",
            "24/11/18 06:22:20 WARN BlockManager: Persisting block rdd_64_34 to disk instead.\n",
            "24/11/18 06:22:26 WARN MemoryStore: Not enough space to cache rdd_64_35 in memory! (computed 43.9 MiB so far)\n",
            "24/11/18 06:22:26 WARN BlockManager: Persisting block rdd_64_35 to disk instead.\n",
            "24/11/18 06:22:26 WARN MemoryStore: Not enough space to cache rdd_64_37 in memory! (computed 13.0 MiB so far)\n",
            "24/11/18 06:22:26 WARN BlockManager: Persisting block rdd_64_37 to disk instead.\n",
            "24/11/18 06:22:26 WARN MemoryStore: Not enough space to cache rdd_64_36 in memory! (computed 29.2 MiB so far)\n",
            "24/11/18 06:22:26 WARN BlockManager: Persisting block rdd_64_36 to disk instead.\n",
            "24/11/18 06:22:36 WARN MemoryStore: Not enough space to cache rdd_44_42 in memory! (computed 8.2 MiB so far)\n",
            "24/11/18 06:22:37 WARN MemoryStore: Not enough space to cache rdd_44_42 in memory! (computed 12.3 MiB so far)\n",
            "24/11/18 06:22:44 WARN MemoryStore: Not enough space to cache rdd_44_2 in memory! (computed 43.6 MiB so far)\n",
            "24/11/18 06:22:44 WARN MemoryStore: Not enough space to cache rdd_44_3 in memory! (computed 43.6 MiB so far)\n",
            "24/11/18 06:22:44 WARN MemoryStore: Not enough space to cache rdd_44_0 in memory! (computed 65.4 MiB so far)\n",
            "24/11/18 06:22:48 WARN MemoryStore: Not enough space to cache rdd_44_6 in memory! (computed 65.4 MiB so far)\n",
            "24/11/18 06:22:49 WARN MemoryStore: Not enough space to cache rdd_44_7 in memory! (computed 65.4 MiB so far)\n",
            "24/11/18 06:22:54 WARN MemoryStore: Not enough space to cache rdd_44_9 in memory! (computed 65.4 MiB so far)\n",
            "24/11/18 06:22:54 WARN MemoryStore: Not enough space to cache rdd_44_10 in memory! (computed 65.4 MiB so far)\n",
            "24/11/18 06:22:59 WARN MemoryStore: Not enough space to cache rdd_44_13 in memory! (computed 65.4 MiB so far)\n",
            "24/11/18 06:22:59 WARN MemoryStore: Not enough space to cache rdd_44_15 in memory! (computed 43.6 MiB so far)\n",
            "24/11/18 06:22:59 WARN MemoryStore: Not enough space to cache rdd_44_14 in memory! (computed 65.4 MiB so far)\n",
            "24/11/18 06:23:04 WARN MemoryStore: Not enough space to cache rdd_44_19 in memory! (computed 65.4 MiB so far)\n",
            "24/11/18 06:23:05 WARN MemoryStore: Not enough space to cache rdd_67_19 in memory! (computed 24.3 MiB so far)\n",
            "24/11/18 06:23:08 WARN MemoryStore: Not enough space to cache rdd_44_21 in memory! (computed 43.6 MiB so far)\n",
            "24/11/18 06:23:08 WARN MemoryStore: Not enough space to cache rdd_44_23 in memory! (computed 43.6 MiB so far)\n",
            "24/11/18 06:23:08 WARN MemoryStore: Not enough space to cache rdd_44_22 in memory! (computed 43.6 MiB so far)\n",
            "24/11/18 06:23:08 WARN MemoryStore: Not enough space to cache rdd_44_20 in memory! (computed 65.4 MiB so far)\n",
            "24/11/18 06:23:13 WARN MemoryStore: Not enough space to cache rdd_44_27 in memory! (computed 65.4 MiB so far)\n",
            "24/11/18 06:23:15 WARN MemoryStore: Not enough space to cache rdd_67_26 in memory! (computed 24.3 MiB so far)\n",
            "24/11/18 06:23:17 WARN MemoryStore: Not enough space to cache rdd_44_29 in memory! (computed 43.6 MiB so far)\n",
            "24/11/18 06:23:17 WARN MemoryStore: Not enough space to cache rdd_44_28 in memory! (computed 65.4 MiB so far)\n",
            "24/11/18 06:23:17 WARN MemoryStore: Not enough space to cache rdd_44_30 in memory! (computed 43.6 MiB so far)\n",
            "24/11/18 06:23:23 WARN MemoryStore: Not enough space to cache rdd_44_33 in memory! (computed 65.4 MiB so far)\n",
            "24/11/18 06:23:23 WARN MemoryStore: Not enough space to cache rdd_44_35 in memory! (computed 43.6 MiB so far)\n",
            "24/11/18 06:23:23 WARN MemoryStore: Not enough space to cache rdd_44_34 in memory! (computed 65.4 MiB so far)\n",
            "24/11/18 06:23:29 WARN MemoryStore: Not enough space to cache rdd_44_39 in memory! (computed 65.4 MiB so far)\n",
            "24/11/18 06:23:30 WARN MemoryStore: Not enough space to cache rdd_67_39 in memory! (computed 24.3 MiB so far)\n",
            "24/11/18 06:23:32 WARN MemoryStore: Not enough space to cache rdd_44_41 in memory! (computed 65.4 MiB so far)\n",
            "24/11/18 06:23:35 WARN MemoryStore: Not enough space to cache rdd_44_1 in memory! (computed 43.6 MiB so far)\n",
            "24/11/18 06:23:35 WARN MemoryStore: Not enough space to cache rdd_44_0 in memory! (computed 43.6 MiB so far)\n",
            "24/11/18 06:23:35 WARN MemoryStore: Not enough space to cache rdd_44_3 in memory! (computed 43.6 MiB so far)\n",
            "24/11/18 06:23:40 WARN MemoryStore: Not enough space to cache rdd_44_5 in memory! (computed 65.4 MiB so far)\n",
            "24/11/18 06:23:40 WARN MemoryStore: Not enough space to cache rdd_44_6 in memory! (computed 65.4 MiB so far)\n",
            "24/11/18 06:23:41 WARN MemoryStore: Not enough space to cache rdd_44_7 in memory! (computed 65.4 MiB so far)\n",
            "24/11/18 06:23:45 WARN MemoryStore: Not enough space to cache rdd_44_11 in memory! (computed 65.4 MiB so far)\n",
            "24/11/18 06:23:45 WARN MemoryStore: Not enough space to cache rdd_44_8 in memory! (computed 65.4 MiB so far)\n",
            "24/11/18 06:23:49 WARN MemoryStore: Not enough space to cache rdd_44_15 in memory! (computed 43.6 MiB so far)\n",
            "24/11/18 06:23:50 WARN MemoryStore: Not enough space to cache rdd_44_13 in memory! (computed 65.4 MiB so far)\n",
            "24/11/18 06:23:50 WARN MemoryStore: Not enough space to cache rdd_44_14 in memory! (computed 65.4 MiB so far)\n",
            "24/11/18 06:23:55 WARN MemoryStore: Not enough space to cache rdd_44_19 in memory! (computed 65.4 MiB so far)\n",
            "24/11/18 06:23:57 WARN MemoryStore: Not enough space to cache rdd_67_18 in memory! (computed 24.3 MiB so far)\n",
            "24/11/18 06:23:59 WARN MemoryStore: Not enough space to cache rdd_44_20 in memory! (computed 65.4 MiB so far)\n",
            "24/11/18 06:23:59 WARN MemoryStore: Not enough space to cache rdd_44_21 in memory! (computed 65.4 MiB so far)\n",
            "24/11/18 06:24:00 WARN MemoryStore: Not enough space to cache rdd_44_23 in memory! (computed 43.6 MiB so far)\n",
            "24/11/18 06:24:05 WARN MemoryStore: Not enough space to cache rdd_67_25 in memory! (computed 24.3 MiB so far)\n",
            "24/11/18 06:24:05 WARN MemoryStore: Not enough space to cache rdd_67_24 in memory! (computed 24.3 MiB so far)\n",
            "24/11/18 06:24:06 WARN MemoryStore: Not enough space to cache rdd_67_27 in memory! (computed 24.3 MiB so far)\n",
            "24/11/18 06:24:08 WARN MemoryStore: Not enough space to cache rdd_44_28 in memory! (computed 43.6 MiB so far)\n",
            "24/11/18 06:24:08 WARN MemoryStore: Not enough space to cache rdd_44_29 in memory! (computed 43.6 MiB so far)\n",
            "24/11/18 06:24:13 WARN MemoryStore: Not enough space to cache rdd_44_35 in memory! (computed 2.3 MiB so far)\n",
            "24/11/18 06:24:14 WARN MemoryStore: Not enough space to cache rdd_44_34 in memory! (computed 65.4 MiB so far)\n",
            "24/11/18 06:24:18 WARN MemoryStore: Not enough space to cache rdd_44_38 in memory! (computed 43.6 MiB so far)\n",
            "24/11/18 06:24:18 WARN MemoryStore: Not enough space to cache rdd_44_39 in memory! (computed 43.6 MiB so far)\n",
            "24/11/18 06:24:27 WARN MemoryStore: Not enough space to cache rdd_44_0 in memory! (computed 43.6 MiB so far)\n",
            "24/11/18 06:24:27 WARN MemoryStore: Not enough space to cache rdd_44_2 in memory! (computed 65.4 MiB so far)\n",
            "24/11/18 06:24:27 WARN MemoryStore: Not enough space to cache rdd_44_3 in memory! (computed 65.4 MiB so far)\n",
            "24/11/18 06:24:32 WARN MemoryStore: Not enough space to cache rdd_44_6 in memory! (computed 65.4 MiB so far)\n",
            "24/11/18 06:24:34 WARN MemoryStore: Not enough space to cache rdd_67_7 in memory! (computed 24.3 MiB so far)\n",
            "24/11/18 06:24:37 WARN MemoryStore: Not enough space to cache rdd_44_10 in memory! (computed 43.6 MiB so far)\n",
            "24/11/18 06:24:37 WARN MemoryStore: Not enough space to cache rdd_44_11 in memory! (computed 27.6 MiB so far)\n",
            "24/11/18 06:24:37 WARN MemoryStore: Not enough space to cache rdd_44_9 in memory! (computed 65.4 MiB so far)\n",
            "24/11/18 06:24:42 WARN MemoryStore: Not enough space to cache rdd_44_13 in memory! (computed 65.4 MiB so far)\n",
            "24/11/18 06:24:42 WARN MemoryStore: Not enough space to cache rdd_44_15 in memory! (computed 43.6 MiB so far)\n",
            "24/11/18 06:24:42 WARN MemoryStore: Not enough space to cache rdd_44_14 in memory! (computed 65.4 MiB so far)\n",
            "24/11/18 06:24:49 WARN MemoryStore: Not enough space to cache rdd_67_19 in memory! (computed 24.3 MiB so far)\n",
            "24/11/18 06:24:51 WARN MemoryStore: Not enough space to cache rdd_44_23 in memory! (computed 12.3 MiB so far)\n",
            "24/11/18 06:24:51 WARN MemoryStore: Not enough space to cache rdd_44_21 in memory! (computed 43.6 MiB so far)\n",
            "24/11/18 06:24:51 WARN MemoryStore: Not enough space to cache rdd_44_22 in memory! (computed 27.6 MiB so far)\n",
            "24/11/18 06:24:56 WARN MemoryStore: Not enough space to cache rdd_44_27 in memory! (computed 27.6 MiB so far)\n",
            "24/11/18 06:25:01 WARN MemoryStore: Not enough space to cache rdd_44_30 in memory! (computed 27.6 MiB so far)\n",
            "24/11/18 06:25:02 WARN MemoryStore: Not enough space to cache rdd_44_31 in memory! (computed 43.6 MiB so far)\n",
            "24/11/18 06:25:08 WARN MemoryStore: Not enough space to cache rdd_67_34 in memory! (computed 16.2 MiB so far)\n",
            "24/11/18 06:25:10 WARN MemoryStore: Not enough space to cache rdd_44_36 in memory! (computed 43.6 MiB so far)\n",
            "24/11/18 06:25:11 WARN MemoryStore: Not enough space to cache rdd_44_39 in memory! (computed 18.4 MiB so far)\n",
            "24/11/18 06:25:16 WARN MemoryStore: Not enough space to cache rdd_44_41 in memory! (computed 65.4 MiB so far)\n",
            "24/11/18 06:25:19 WARN MemoryStore: Not enough space to cache rdd_44_0 in memory! (computed 43.6 MiB so far)\n",
            "24/11/18 06:25:19 WARN MemoryStore: Not enough space to cache rdd_44_2 in memory! (computed 43.6 MiB so far)\n",
            "24/11/18 06:25:20 WARN MemoryStore: Not enough space to cache rdd_44_3 in memory! (computed 65.4 MiB so far)\n",
            "24/11/18 06:25:24 WARN MemoryStore: Not enough space to cache rdd_44_4 in memory! (computed 65.4 MiB so far)\n",
            "24/11/18 06:25:25 WARN MemoryStore: Not enough space to cache rdd_44_5 in memory! (computed 65.4 MiB so far)\n",
            "24/11/18 06:25:25 WARN MemoryStore: Not enough space to cache rdd_44_7 in memory! (computed 65.4 MiB so far)\n",
            "24/11/18 06:25:29 WARN MemoryStore: Not enough space to cache rdd_44_11 in memory! (computed 43.6 MiB so far)\n",
            "24/11/18 06:25:34 WARN MemoryStore: Not enough space to cache rdd_44_15 in memory! (computed 18.4 MiB so far)\n",
            "24/11/18 06:25:34 WARN MemoryStore: Not enough space to cache rdd_44_14 in memory! (computed 43.6 MiB so far)\n",
            "24/11/18 06:25:39 WARN MemoryStore: Not enough space to cache rdd_44_19 in memory! (computed 12.3 MiB so far)\n",
            "24/11/18 06:25:39 WARN MemoryStore: Not enough space to cache rdd_44_18 in memory! (computed 43.6 MiB so far)\n",
            "24/11/18 06:25:43 WARN MemoryStore: Not enough space to cache rdd_44_20 in memory! (computed 65.4 MiB so far)\n",
            "24/11/18 06:25:43 WARN MemoryStore: Not enough space to cache rdd_44_22 in memory! (computed 27.6 MiB so far)\n",
            "24/11/18 06:25:44 WARN MemoryStore: Not enough space to cache rdd_44_23 in memory! (computed 27.6 MiB so far)\n",
            "24/11/18 06:25:50 WARN MemoryStore: Not enough space to cache rdd_67_25 in memory! (computed 24.3 MiB so far)\n",
            "24/11/18 06:25:50 WARN MemoryStore: Not enough space to cache rdd_67_26 in memory! (computed 10.8 MiB so far)\n",
            "24/11/18 06:25:53 WARN MemoryStore: Not enough space to cache rdd_44_28 in memory! (computed 43.6 MiB so far)\n",
            "24/11/18 06:25:54 WARN MemoryStore: Not enough space to cache rdd_44_30 in memory! (computed 43.6 MiB so far)\n",
            "24/11/18 06:25:54 WARN MemoryStore: Not enough space to cache rdd_44_31 in memory! (computed 43.6 MiB so far)\n",
            "24/11/18 06:25:59 WARN MemoryStore: Not enough space to cache rdd_44_33 in memory! (computed 65.4 MiB so far)\n",
            "24/11/18 06:25:59 WARN MemoryStore: Not enough space to cache rdd_44_35 in memory! (computed 43.6 MiB so far)\n",
            "24/11/18 06:26:07 WARN MemoryStore: Not enough space to cache rdd_67_39 in memory! (computed 24.3 MiB so far)\n",
            "24/11/18 06:26:07 WARN MemoryStore: Not enough space to cache rdd_44_40 in memory! (computed 27.6 MiB so far)\n",
            "                                                                                \r"
          ]
        }
      ],
      "source": [
        "# Initialize the GBT Regressor\n",
        "gbt = GBTRegressor(featuresCol=\"features\", labelCol=\"fare_amount\", maxIter=2)\n",
        "\n",
        "# Train the model\n",
        "model = gbt.fit(train_data)"
      ]
    },
    {
      "cell_type": "code",
      "execution_count": null,
      "id": "6253b8e0",
      "metadata": {
        "execution": {
          "iopub.execute_input": "2024-11-18T06:26:11.717549Z",
          "iopub.status.busy": "2024-11-18T06:26:11.716465Z",
          "iopub.status.idle": "2024-11-18T06:30:08.425913Z",
          "shell.execute_reply": "2024-11-18T06:30:08.424916Z"
        },
        "papermill": {
          "duration": 236.793277,
          "end_time": "2024-11-18T06:30:08.429224",
          "exception": false,
          "start_time": "2024-11-18T06:26:11.635947",
          "status": "completed"
        },
        "tags": [],
        "id": "6253b8e0",
        "outputId": "bc811ce2-cb5c-4308-90d8-72ce50001d58"
      },
      "outputs": [
        {
          "name": "stderr",
          "output_type": "stream",
          "text": [
            "WARNING: An illegal reflective access operation has occurred\n",
            "WARNING: Illegal reflective access by org.apache.spark.util.SizeEstimator$ (file:/opt/conda/lib/python3.10/site-packages/pyspark/jars/spark-core_2.12-3.5.3.jar) to field java.nio.charset.Charset.name\n",
            "WARNING: Please consider reporting this to the maintainers of org.apache.spark.util.SizeEstimator$\n",
            "WARNING: Use --illegal-access=warn to enable warnings of further illegal reflective access operations\n",
            "WARNING: All illegal access operations will be denied in a future release\n",
            "[Stage 31:=====================================================>  (41 + 2) / 43]\r"
          ]
        },
        {
          "name": "stdout",
          "output_type": "stream",
          "text": [
            "Root Mean Squared Error (RMSE) on test data = 5.37425621081175\n"
          ]
        },
        {
          "name": "stderr",
          "output_type": "stream",
          "text": [
            "                                                                                \r"
          ]
        }
      ],
      "source": [
        "# Make predictions on the test data\n",
        "predictions = model.transform(test_data)\n",
        "\n",
        "# Initialize the evaluator with Root Mean Squared Error (RMSE) as the metric\n",
        "evaluator = RegressionEvaluator(labelCol=\"fare_amount\", predictionCol=\"prediction\", metricName=\"rmse\")\n",
        "\n",
        "# Calculate RMSE\n",
        "rmse = evaluator.evaluate(predictions)\n",
        "print(f\"Root Mean Squared Error (RMSE) on test data = {rmse}\")"
      ]
    },
    {
      "cell_type": "code",
      "execution_count": null,
      "id": "a673df8c",
      "metadata": {
        "execution": {
          "iopub.execute_input": "2024-11-18T06:30:08.589172Z",
          "iopub.status.busy": "2024-11-18T06:30:08.588270Z",
          "iopub.status.idle": "2024-11-18T06:34:02.846814Z",
          "shell.execute_reply": "2024-11-18T06:34:02.845335Z"
        },
        "papermill": {
          "duration": 234.333223,
          "end_time": "2024-11-18T06:34:02.849475",
          "exception": false,
          "start_time": "2024-11-18T06:30:08.516252",
          "status": "completed"
        },
        "tags": [],
        "id": "a673df8c",
        "outputId": "7ada89c6-fdbb-4f8b-ccd1-83143decece8"
      },
      "outputs": [
        {
          "name": "stderr",
          "output_type": "stream",
          "text": [
            "[Stage 33:======================================================> (42 + 1) / 43]\r"
          ]
        },
        {
          "name": "stdout",
          "output_type": "stream",
          "text": [
            "Mean Absolute Error (MAE) on test data = 2.5876849203522183\n"
          ]
        },
        {
          "name": "stderr",
          "output_type": "stream",
          "text": [
            "                                                                                \r"
          ]
        }
      ],
      "source": [
        "# Calculate Mean Absolute Error (MAE)\n",
        "mae_evaluator = RegressionEvaluator(labelCol=\"fare_amount\", predictionCol=\"prediction\", metricName=\"mae\")\n",
        "mae = mae_evaluator.evaluate(predictions)\n",
        "print(f\"Mean Absolute Error (MAE) on test data = {mae}\")"
      ]
    },
    {
      "cell_type": "code",
      "execution_count": null,
      "id": "7346265d",
      "metadata": {
        "execution": {
          "iopub.execute_input": "2024-11-18T06:34:03.147750Z",
          "iopub.status.busy": "2024-11-18T06:34:03.146909Z",
          "iopub.status.idle": "2024-11-18T06:34:13.480807Z",
          "shell.execute_reply": "2024-11-18T06:34:13.479739Z"
        },
        "papermill": {
          "duration": 10.408482,
          "end_time": "2024-11-18T06:34:13.483757",
          "exception": false,
          "start_time": "2024-11-18T06:34:03.075275",
          "status": "completed"
        },
        "tags": [],
        "id": "7346265d",
        "outputId": "8115088e-f3d6-4ff2-cea3-dfdfab00afb9"
      },
      "outputs": [
        {
          "name": "stderr",
          "output_type": "stream",
          "text": [
            "[Stage 35:>                                                         (0 + 1) / 1]\r"
          ]
        },
        {
          "name": "stdout",
          "output_type": "stream",
          "text": [
            "+--------------------+------------------+-------------+\n",
            "|            features|        prediction|fare_category|\n",
            "+--------------------+------------------+-------------+\n",
            "|[15.1976898981475...| 43.16127658819969|    High Fare|\n",
            "|[0.74158114372689...| 6.017868660006484|     Low Fare|\n",
            "|[6.20252857424036...|17.874657864456264|  Medium Fare|\n",
            "|[1.27378131363886...| 6.347801826763765|     Low Fare|\n",
            "|[4.54420548906518...|13.195162007893368|  Medium Fare|\n",
            "|[3.34932053909997...|11.313961684305273|  Medium Fare|\n",
            "|[0.94865932217737...| 6.177670914995755|     Low Fare|\n",
            "|[1.81948726321019...|6.5155452676839305|     Low Fare|\n",
            "|[3.74620294688523...|11.471191955312678|  Medium Fare|\n",
            "|[2.49181941262547...| 9.482862332908173|     Low Fare|\n",
            "+--------------------+------------------+-------------+\n",
            "only showing top 10 rows\n",
            "\n"
          ]
        },
        {
          "name": "stderr",
          "output_type": "stream",
          "text": [
            "                                                                                \r"
          ]
        }
      ],
      "source": [
        "from pyspark.sql.functions import when\n",
        "\n",
        "# Define fare categories based on prediction values\n",
        "predictions = predictions.withColumn(\n",
        "    \"fare_category\",\n",
        "    when(predictions[\"prediction\"] < 10, \"Low Fare\")\n",
        "    .when((predictions[\"prediction\"] >= 10) & (predictions[\"prediction\"] < 30), \"Medium Fare\")\n",
        "    .otherwise(\"High Fare\")\n",
        ")\n",
        "\n",
        "# Show a sample of the predictions with fare categories\n",
        "predictions.select(\"features\", \"prediction\", \"fare_category\").show(10)"
      ]
    },
    {
      "cell_type": "code",
      "execution_count": null,
      "id": "e5e624e9",
      "metadata": {
        "papermill": {
          "duration": 0.093022,
          "end_time": "2024-11-18T06:34:13.677206",
          "exception": false,
          "start_time": "2024-11-18T06:34:13.584184",
          "status": "completed"
        },
        "tags": [],
        "id": "e5e624e9"
      },
      "outputs": [],
      "source": []
    }
  ],
  "metadata": {
    "kaggle": {
      "accelerator": "gpu",
      "dataSources": [
        {
          "databundleVersionId": 61318,
          "sourceId": 10170,
          "sourceType": "competition"
        }
      ],
      "dockerImageVersionId": 30786,
      "isGpuEnabled": true,
      "isInternetEnabled": true,
      "language": "python",
      "sourceType": "notebook"
    },
    "kernelspec": {
      "display_name": "Python 3",
      "language": "python",
      "name": "python3"
    },
    "language_info": {
      "codemirror_mode": {
        "name": "ipython",
        "version": 3
      },
      "file_extension": ".py",
      "mimetype": "text/x-python",
      "name": "python",
      "nbconvert_exporter": "python",
      "pygments_lexer": "ipython3",
      "version": "3.10.14"
    },
    "papermill": {
      "default_parameters": {},
      "duration": 2326.113308,
      "end_time": "2024-11-18T06:34:17.168919",
      "environment_variables": {},
      "exception": null,
      "input_path": "__notebook__.ipynb",
      "output_path": "__notebook__.ipynb",
      "parameters": {},
      "start_time": "2024-11-18T05:55:31.055611",
      "version": "2.6.0"
    },
    "colab": {
      "provenance": [],
      "include_colab_link": true
    }
  },
  "nbformat": 4,
  "nbformat_minor": 5
}